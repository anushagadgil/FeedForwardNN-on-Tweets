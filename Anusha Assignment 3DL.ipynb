{
 "cells": [
  {
   "cell_type": "markdown",
   "metadata": {},
   "source": [
    "#### Problem statement"
   ]
  },
  {
   "cell_type": "markdown",
   "metadata": {},
   "source": [
    "Predict the political party from the tweet text and the handle"
   ]
  },
  {
   "cell_type": "markdown",
   "metadata": {},
   "source": [
    "#### Data description\n",
    "This dataset has three columns - label (party name), twitter handle, tweet text\n",
    "\n",
    "\n",
    "#### Problem Description:\n",
    "\n",
    "Design a feed forward deep neural network to predict the political party using the pytorch or tensorflow. \n",
    "Build two models\n",
    "\n",
    "1. Without using the handle\n",
    "\n",
    "2. Using the handle\n",
    "\n",
    "\n",
    "#### Deliverables\n",
    "\n",
    "- Report the performance on the test set.\n",
    "\n",
    "- Try multiple models and with different hyperparameters. Present the results of each model on the test set. No need to create a dev set.\n",
    "\n",
    "- Experiment with:\n",
    "    -L2 and dropout regularization techniques\n",
    "    -SGD, RMSProp and Adamp optimization techniques\n",
    "\n",
    "\n",
    "\n",
    "- Creating a fixed-sized vocabulary: Give a unique id to each word in your selected vocabulary and use it as the input to the network\n",
    "\n",
    "    - Option 1: Feedforward networks can only handle fixed-sized inputs. You can choose to have a fixed-sized K words from the tweet text (e.g. the first K word, randomly selected K word etc.). K can be a hyperparameter. \n",
    "\n",
    "    - Option 2: you can choose top N (e.g. N=1000) frequent words from the dataset and use an N-sized input layer. If a word is present in a tweet, pass the id, 0 otherwise\n",
    "    \n",
    "    -  Clearly state your design choices and assumptions. Think about the pros and cons of each option.\n",
    "\n",
    " \n",
    "\n",
    "<b> Tabulate your results, either at the end of the code file or in the text box on the submission page. The final result should have:</b>\n",
    "\n",
    "1. Experiment description\n",
    "\n",
    "2. Hyperparameter used and their values\n",
    "\n",
    "3. Performance on the test set\n",
    "\n",
    " "
   ]
  },
  {
   "cell_type": "code",
   "execution_count": 105,
   "metadata": {},
   "outputs": [],
   "source": [
    "#Importing necessary modules\n",
    "from sklearn.preprocessing import LabelBinarizer\n",
    "from sklearn.metrics import classification_report\n",
    "from tensorflow.keras.models import Sequential\n",
    "from tensorflow.keras.layers import Dense\n",
    "from tensorflow.keras.optimizers import SGD\n",
    "import pandas as pd\n",
    "from sklearn.model_selection import train_test_split\n",
    "from sklearn.preprocessing import LabelEncoder\n",
    "from tensorflow.keras.preprocessing.text import Tokenizer\n",
    "from tensorflow.keras.preprocessing.sequence import pad_sequences\n",
    "from tensorflow.keras.models import Sequential\n",
    "from tensorflow.keras.layers import Embedding, LSTM, Dense\n",
    "import nltk"
   ]
  },
  {
   "cell_type": "code",
   "execution_count": 106,
   "metadata": {},
   "outputs": [],
   "source": [
    "from sklearn.model_selection import train_test_split"
   ]
  },
  {
   "cell_type": "code",
   "execution_count": 107,
   "metadata": {},
   "outputs": [],
   "source": [
    "train_data = pd.read_csv(\"C:/Users/Anusha Gadgil/Desktop/Deep learning/train.csv\")"
   ]
  },
  {
   "cell_type": "markdown",
   "metadata": {},
   "source": [
    "Performing EDA"
   ]
  },
  {
   "cell_type": "code",
   "execution_count": 108,
   "metadata": {},
   "outputs": [
    {
     "data": {
      "text/plain": [
       "0        Today, Senate Dems vote to #SaveTheInternet. P...\n",
       "1        RT @WinterHavenSun: Winter Haven resident / Al...\n",
       "2        RT @NBCLatino: .@RepDarrenSoto noted that Hurr...\n",
       "3        RT @NALCABPolicy: Meeting with @RepDarrenSoto ...\n",
       "4        RT @Vegalteno: Hurricane season starts on June...\n",
       "                               ...                        \n",
       "72730    Check out my op-ed on need for End Executive O...\n",
       "72731    Yesterday, Betty &amp; I had a great time lear...\n",
       "72732    We are forever grateful for the service and sa...\n",
       "72733    Happy first day of school @CobbSchools! #CobbB...\n",
       "72734    #Zika fears realized in Florida. House GOP act...\n",
       "Name: Tweet, Length: 72735, dtype: object"
      ]
     },
     "execution_count": 108,
     "metadata": {},
     "output_type": "execute_result"
    }
   ],
   "source": [
    "train_data[\"Tweet\"]"
   ]
  },
  {
   "cell_type": "code",
   "execution_count": 109,
   "metadata": {},
   "outputs": [],
   "source": [
    "test_data=pd.read_csv(\"C:/Users/Anusha Gadgil/Desktop/Deep learning/test.csv\")"
   ]
  },
  {
   "cell_type": "code",
   "execution_count": 110,
   "metadata": {},
   "outputs": [
    {
     "data": {
      "text/html": [
       "<div>\n",
       "<style scoped>\n",
       "    .dataframe tbody tr th:only-of-type {\n",
       "        vertical-align: middle;\n",
       "    }\n",
       "\n",
       "    .dataframe tbody tr th {\n",
       "        vertical-align: top;\n",
       "    }\n",
       "\n",
       "    .dataframe thead th {\n",
       "        text-align: right;\n",
       "    }\n",
       "</style>\n",
       "<table border=\"1\" class=\"dataframe\">\n",
       "  <thead>\n",
       "    <tr style=\"text-align: right;\">\n",
       "      <th></th>\n",
       "      <th>Unnamed: 0</th>\n",
       "      <th>Party</th>\n",
       "      <th>Handle</th>\n",
       "      <th>Tweet</th>\n",
       "    </tr>\n",
       "  </thead>\n",
       "  <tbody>\n",
       "    <tr>\n",
       "      <th>0</th>\n",
       "      <td>1009</td>\n",
       "      <td>Democrat</td>\n",
       "      <td>RepBarragan</td>\n",
       "      <td>Join me next Friday, May 18 in #Lynwood for ou...</td>\n",
       "    </tr>\n",
       "    <tr>\n",
       "      <th>1</th>\n",
       "      <td>1025</td>\n",
       "      <td>Democrat</td>\n",
       "      <td>RepBarragan</td>\n",
       "      <td>The administration announced its plan today to...</td>\n",
       "    </tr>\n",
       "    <tr>\n",
       "      <th>2</th>\n",
       "      <td>1029</td>\n",
       "      <td>Democrat</td>\n",
       "      <td>RepBarragan</td>\n",
       "      <td>Today’s @SouthGateCAgov’s JAA Opening Day Cere...</td>\n",
       "    </tr>\n",
       "    <tr>\n",
       "      <th>3</th>\n",
       "      <td>1031</td>\n",
       "      <td>Democrat</td>\n",
       "      <td>RepBarragan</td>\n",
       "      <td>Great visit @Compton_YB! TY for creating a pos...</td>\n",
       "    </tr>\n",
       "    <tr>\n",
       "      <th>4</th>\n",
       "      <td>1035</td>\n",
       "      <td>Democrat</td>\n",
       "      <td>RepBarragan</td>\n",
       "      <td>Tune into my Water Quality Town Hall live feed...</td>\n",
       "    </tr>\n",
       "    <tr>\n",
       "      <th>...</th>\n",
       "      <td>...</td>\n",
       "      <td>...</td>\n",
       "      <td>...</td>\n",
       "      <td>...</td>\n",
       "    </tr>\n",
       "    <tr>\n",
       "      <th>13721</th>\n",
       "      <td>84986</td>\n",
       "      <td>Republican</td>\n",
       "      <td>michaelcburgess</td>\n",
       "      <td>Forty-five years ago today, Rep. Sam Johnson r...</td>\n",
       "    </tr>\n",
       "    <tr>\n",
       "      <th>13722</th>\n",
       "      <td>84987</td>\n",
       "      <td>Republican</td>\n",
       "      <td>michaelcburgess</td>\n",
       "      <td>Yesterday we all were deeply saddened by the e...</td>\n",
       "    </tr>\n",
       "    <tr>\n",
       "      <th>13723</th>\n",
       "      <td>84990</td>\n",
       "      <td>Republican</td>\n",
       "      <td>michaelcburgess</td>\n",
       "      <td>The White House has released a Statement of Ad...</td>\n",
       "    </tr>\n",
       "    <tr>\n",
       "      <th>13724</th>\n",
       "      <td>84992</td>\n",
       "      <td>Republican</td>\n",
       "      <td>michaelcburgess</td>\n",
       "      <td>Today I had a productive meeting with @SecAzar...</td>\n",
       "    </tr>\n",
       "    <tr>\n",
       "      <th>13725</th>\n",
       "      <td>84998</td>\n",
       "      <td>Republican</td>\n",
       "      <td>michaelcburgess</td>\n",
       "      <td>This morning - on the first anniversary of his...</td>\n",
       "    </tr>\n",
       "  </tbody>\n",
       "</table>\n",
       "<p>13726 rows × 4 columns</p>\n",
       "</div>"
      ],
      "text/plain": [
       "       Unnamed: 0       Party           Handle  \\\n",
       "0            1009    Democrat      RepBarragan   \n",
       "1            1025    Democrat      RepBarragan   \n",
       "2            1029    Democrat      RepBarragan   \n",
       "3            1031    Democrat      RepBarragan   \n",
       "4            1035    Democrat      RepBarragan   \n",
       "...           ...         ...              ...   \n",
       "13721       84986  Republican  michaelcburgess   \n",
       "13722       84987  Republican  michaelcburgess   \n",
       "13723       84990  Republican  michaelcburgess   \n",
       "13724       84992  Republican  michaelcburgess   \n",
       "13725       84998  Republican  michaelcburgess   \n",
       "\n",
       "                                                   Tweet  \n",
       "0      Join me next Friday, May 18 in #Lynwood for ou...  \n",
       "1      The administration announced its plan today to...  \n",
       "2      Today’s @SouthGateCAgov’s JAA Opening Day Cere...  \n",
       "3      Great visit @Compton_YB! TY for creating a pos...  \n",
       "4      Tune into my Water Quality Town Hall live feed...  \n",
       "...                                                  ...  \n",
       "13721  Forty-five years ago today, Rep. Sam Johnson r...  \n",
       "13722  Yesterday we all were deeply saddened by the e...  \n",
       "13723  The White House has released a Statement of Ad...  \n",
       "13724  Today I had a productive meeting with @SecAzar...  \n",
       "13725  This morning - on the first anniversary of his...  \n",
       "\n",
       "[13726 rows x 4 columns]"
      ]
     },
     "execution_count": 110,
     "metadata": {},
     "output_type": "execute_result"
    }
   ],
   "source": [
    "test_data"
   ]
  },
  {
   "cell_type": "code",
   "execution_count": 111,
   "metadata": {},
   "outputs": [
    {
     "data": {
      "text/plain": [
       "array(['Democrat', nan, 'Republican'], dtype=object)"
      ]
     },
     "execution_count": 111,
     "metadata": {},
     "output_type": "execute_result"
    }
   ],
   "source": [
    "unique_values = train_data['Party'].unique()\n",
    "unique_values"
   ]
  },
  {
   "cell_type": "markdown",
   "metadata": {},
   "source": [
    "Data Cleaning"
   ]
  },
  {
   "cell_type": "code",
   "execution_count": 112,
   "metadata": {},
   "outputs": [],
   "source": [
    "#Removing rows where party is \"NaN\"\n",
    "Party_Rows =train_data.dropna()"
   ]
  },
  {
   "cell_type": "code",
   "execution_count": 113,
   "metadata": {},
   "outputs": [
    {
     "data": {
      "text/html": [
       "<div>\n",
       "<style scoped>\n",
       "    .dataframe tbody tr th:only-of-type {\n",
       "        vertical-align: middle;\n",
       "    }\n",
       "\n",
       "    .dataframe tbody tr th {\n",
       "        vertical-align: top;\n",
       "    }\n",
       "\n",
       "    .dataframe thead th {\n",
       "        text-align: right;\n",
       "    }\n",
       "</style>\n",
       "<table border=\"1\" class=\"dataframe\">\n",
       "  <thead>\n",
       "    <tr style=\"text-align: right;\">\n",
       "      <th></th>\n",
       "      <th>Unnamed: 0</th>\n",
       "      <th>Party</th>\n",
       "      <th>Handle</th>\n",
       "      <th>Tweet</th>\n",
       "    </tr>\n",
       "  </thead>\n",
       "  <tbody>\n",
       "    <tr>\n",
       "      <th>0</th>\n",
       "      <td>0</td>\n",
       "      <td>Democrat</td>\n",
       "      <td>RepDarrenSoto</td>\n",
       "      <td>Today, Senate Dems vote to #SaveTheInternet. P...</td>\n",
       "    </tr>\n",
       "    <tr>\n",
       "      <th>1</th>\n",
       "      <td>1</td>\n",
       "      <td>Democrat</td>\n",
       "      <td>RepDarrenSoto</td>\n",
       "      <td>RT @WinterHavenSun: Winter Haven resident / Al...</td>\n",
       "    </tr>\n",
       "    <tr>\n",
       "      <th>2</th>\n",
       "      <td>2</td>\n",
       "      <td>Democrat</td>\n",
       "      <td>RepDarrenSoto</td>\n",
       "      <td>RT @NBCLatino: .@RepDarrenSoto noted that Hurr...</td>\n",
       "    </tr>\n",
       "    <tr>\n",
       "      <th>3</th>\n",
       "      <td>3</td>\n",
       "      <td>Democrat</td>\n",
       "      <td>RepDarrenSoto</td>\n",
       "      <td>RT @NALCABPolicy: Meeting with @RepDarrenSoto ...</td>\n",
       "    </tr>\n",
       "    <tr>\n",
       "      <th>4</th>\n",
       "      <td>4</td>\n",
       "      <td>Democrat</td>\n",
       "      <td>RepDarrenSoto</td>\n",
       "      <td>RT @Vegalteno: Hurricane season starts on June...</td>\n",
       "    </tr>\n",
       "    <tr>\n",
       "      <th>...</th>\n",
       "      <td>...</td>\n",
       "      <td>...</td>\n",
       "      <td>...</td>\n",
       "      <td>...</td>\n",
       "    </tr>\n",
       "    <tr>\n",
       "      <th>72730</th>\n",
       "      <td>86455</td>\n",
       "      <td>Republican</td>\n",
       "      <td>RepTomPrice</td>\n",
       "      <td>Check out my op-ed on need for End Executive O...</td>\n",
       "    </tr>\n",
       "    <tr>\n",
       "      <th>72731</th>\n",
       "      <td>86456</td>\n",
       "      <td>Republican</td>\n",
       "      <td>RepTomPrice</td>\n",
       "      <td>Yesterday, Betty &amp;amp; I had a great time lear...</td>\n",
       "    </tr>\n",
       "    <tr>\n",
       "      <th>72732</th>\n",
       "      <td>86457</td>\n",
       "      <td>Republican</td>\n",
       "      <td>RepTomPrice</td>\n",
       "      <td>We are forever grateful for the service and sa...</td>\n",
       "    </tr>\n",
       "    <tr>\n",
       "      <th>72733</th>\n",
       "      <td>86458</td>\n",
       "      <td>Republican</td>\n",
       "      <td>RepTomPrice</td>\n",
       "      <td>Happy first day of school @CobbSchools! #CobbB...</td>\n",
       "    </tr>\n",
       "    <tr>\n",
       "      <th>72734</th>\n",
       "      <td>86459</td>\n",
       "      <td>Republican</td>\n",
       "      <td>RepTomPrice</td>\n",
       "      <td>#Zika fears realized in Florida. House GOP act...</td>\n",
       "    </tr>\n",
       "  </tbody>\n",
       "</table>\n",
       "<p>72734 rows × 4 columns</p>\n",
       "</div>"
      ],
      "text/plain": [
       "      Unnamed: 0       Party         Handle  \\\n",
       "0              0    Democrat  RepDarrenSoto   \n",
       "1              1    Democrat  RepDarrenSoto   \n",
       "2              2    Democrat  RepDarrenSoto   \n",
       "3              3    Democrat  RepDarrenSoto   \n",
       "4              4    Democrat  RepDarrenSoto   \n",
       "...          ...         ...            ...   \n",
       "72730      86455  Republican    RepTomPrice   \n",
       "72731      86456  Republican    RepTomPrice   \n",
       "72732      86457  Republican    RepTomPrice   \n",
       "72733      86458  Republican    RepTomPrice   \n",
       "72734      86459  Republican    RepTomPrice   \n",
       "\n",
       "                                                   Tweet  \n",
       "0      Today, Senate Dems vote to #SaveTheInternet. P...  \n",
       "1      RT @WinterHavenSun: Winter Haven resident / Al...  \n",
       "2      RT @NBCLatino: .@RepDarrenSoto noted that Hurr...  \n",
       "3      RT @NALCABPolicy: Meeting with @RepDarrenSoto ...  \n",
       "4      RT @Vegalteno: Hurricane season starts on June...  \n",
       "...                                                  ...  \n",
       "72730  Check out my op-ed on need for End Executive O...  \n",
       "72731  Yesterday, Betty &amp; I had a great time lear...  \n",
       "72732  We are forever grateful for the service and sa...  \n",
       "72733  Happy first day of school @CobbSchools! #CobbB...  \n",
       "72734  #Zika fears realized in Florida. House GOP act...  \n",
       "\n",
       "[72734 rows x 4 columns]"
      ]
     },
     "execution_count": 113,
     "metadata": {},
     "output_type": "execute_result"
    }
   ],
   "source": [
    "Party_Rows"
   ]
  },
  {
   "cell_type": "markdown",
   "metadata": {},
   "source": [
    "Basic Data Cleaning"
   ]
  },
  {
   "cell_type": "code",
   "execution_count": 217,
   "metadata": {},
   "outputs": [],
   "source": [
    "import re\n",
    "train_data['Tweet'] = train_data['Tweet'].astype(str)\n",
    "# Function to clean up tweets\n",
    "def clean_tweet(tweet):\n",
    "    # Remove URLs\n",
    "    tweet = re.sub(r'http\\S+', '', tweet)\n",
    "    # Remove mentions (e.g., @username)\n",
    "    tweet = re.sub(r'@\\w+', '', tweet)\n",
    "    # Remove hashtags\n",
    "    tweet = re.sub(r'#\\w+', '', tweet)\n",
    "    # Remove special characters and punctuation\n",
    "    tweet = re.sub(r'[^a-zA-Z\\s]', '', tweet)\n",
    "    # Convert to lowercase\n",
    "    tweet = tweet.lower()\n",
    "    return tweet\n",
    "\n",
    "# Apply the cleaning function to the 'Tweet' column\n",
    "train_data['Cleaned Tweet'] = train_data['Tweet'].apply(clean_tweet)\n"
   ]
  },
  {
   "cell_type": "code",
   "execution_count": 115,
   "metadata": {
    "scrolled": true
   },
   "outputs": [
    {
     "data": {
      "text/html": [
       "<div>\n",
       "<style scoped>\n",
       "    .dataframe tbody tr th:only-of-type {\n",
       "        vertical-align: middle;\n",
       "    }\n",
       "\n",
       "    .dataframe tbody tr th {\n",
       "        vertical-align: top;\n",
       "    }\n",
       "\n",
       "    .dataframe thead th {\n",
       "        text-align: right;\n",
       "    }\n",
       "</style>\n",
       "<table border=\"1\" class=\"dataframe\">\n",
       "  <thead>\n",
       "    <tr style=\"text-align: right;\">\n",
       "      <th></th>\n",
       "      <th>Unnamed: 0</th>\n",
       "      <th>Party</th>\n",
       "      <th>Handle</th>\n",
       "      <th>Tweet</th>\n",
       "      <th>Cleaned Tweet</th>\n",
       "    </tr>\n",
       "  </thead>\n",
       "  <tbody>\n",
       "    <tr>\n",
       "      <th>0</th>\n",
       "      <td>0</td>\n",
       "      <td>Democrat</td>\n",
       "      <td>RepDarrenSoto</td>\n",
       "      <td>Today, Senate Dems vote to #SaveTheInternet. P...</td>\n",
       "      <td>today senate dems vote to  proud to support si...</td>\n",
       "    </tr>\n",
       "    <tr>\n",
       "      <th>1</th>\n",
       "      <td>1</td>\n",
       "      <td>Democrat</td>\n",
       "      <td>RepDarrenSoto</td>\n",
       "      <td>RT @WinterHavenSun: Winter Haven resident / Al...</td>\n",
       "      <td>rt  winter haven resident  alta vista teacher ...</td>\n",
       "    </tr>\n",
       "    <tr>\n",
       "      <th>2</th>\n",
       "      <td>2</td>\n",
       "      <td>Democrat</td>\n",
       "      <td>RepDarrenSoto</td>\n",
       "      <td>RT @NBCLatino: .@RepDarrenSoto noted that Hurr...</td>\n",
       "      <td>rt   noted that hurricane maria has left appro...</td>\n",
       "    </tr>\n",
       "    <tr>\n",
       "      <th>3</th>\n",
       "      <td>3</td>\n",
       "      <td>Democrat</td>\n",
       "      <td>RepDarrenSoto</td>\n",
       "      <td>RT @NALCABPolicy: Meeting with @RepDarrenSoto ...</td>\n",
       "      <td>rt  meeting with   thanks for taking the time ...</td>\n",
       "    </tr>\n",
       "    <tr>\n",
       "      <th>4</th>\n",
       "      <td>4</td>\n",
       "      <td>Democrat</td>\n",
       "      <td>RepDarrenSoto</td>\n",
       "      <td>RT @Vegalteno: Hurricane season starts on June...</td>\n",
       "      <td>rt  hurricane season starts on june st puerto ...</td>\n",
       "    </tr>\n",
       "    <tr>\n",
       "      <th>...</th>\n",
       "      <td>...</td>\n",
       "      <td>...</td>\n",
       "      <td>...</td>\n",
       "      <td>...</td>\n",
       "      <td>...</td>\n",
       "    </tr>\n",
       "    <tr>\n",
       "      <th>72730</th>\n",
       "      <td>86455</td>\n",
       "      <td>Republican</td>\n",
       "      <td>RepTomPrice</td>\n",
       "      <td>Check out my op-ed on need for End Executive O...</td>\n",
       "      <td>check out my oped on need for end executive ov...</td>\n",
       "    </tr>\n",
       "    <tr>\n",
       "      <th>72731</th>\n",
       "      <td>86456</td>\n",
       "      <td>Republican</td>\n",
       "      <td>RepTomPrice</td>\n",
       "      <td>Yesterday, Betty &amp;amp; I had a great time lear...</td>\n",
       "      <td>yesterday betty amp i had a great time learnin...</td>\n",
       "    </tr>\n",
       "    <tr>\n",
       "      <th>72732</th>\n",
       "      <td>86457</td>\n",
       "      <td>Republican</td>\n",
       "      <td>RepTomPrice</td>\n",
       "      <td>We are forever grateful for the service and sa...</td>\n",
       "      <td>we are forever grateful for the service and sa...</td>\n",
       "    </tr>\n",
       "    <tr>\n",
       "      <th>72733</th>\n",
       "      <td>86458</td>\n",
       "      <td>Republican</td>\n",
       "      <td>RepTomPrice</td>\n",
       "      <td>Happy first day of school @CobbSchools! #CobbB...</td>\n",
       "      <td>happy first day of school</td>\n",
       "    </tr>\n",
       "    <tr>\n",
       "      <th>72734</th>\n",
       "      <td>86459</td>\n",
       "      <td>Republican</td>\n",
       "      <td>RepTomPrice</td>\n",
       "      <td>#Zika fears realized in Florida. House GOP act...</td>\n",
       "      <td>fears realized in florida house gop acted to ...</td>\n",
       "    </tr>\n",
       "  </tbody>\n",
       "</table>\n",
       "<p>72735 rows × 5 columns</p>\n",
       "</div>"
      ],
      "text/plain": [
       "      Unnamed: 0       Party         Handle  \\\n",
       "0              0    Democrat  RepDarrenSoto   \n",
       "1              1    Democrat  RepDarrenSoto   \n",
       "2              2    Democrat  RepDarrenSoto   \n",
       "3              3    Democrat  RepDarrenSoto   \n",
       "4              4    Democrat  RepDarrenSoto   \n",
       "...          ...         ...            ...   \n",
       "72730      86455  Republican    RepTomPrice   \n",
       "72731      86456  Republican    RepTomPrice   \n",
       "72732      86457  Republican    RepTomPrice   \n",
       "72733      86458  Republican    RepTomPrice   \n",
       "72734      86459  Republican    RepTomPrice   \n",
       "\n",
       "                                                   Tweet  \\\n",
       "0      Today, Senate Dems vote to #SaveTheInternet. P...   \n",
       "1      RT @WinterHavenSun: Winter Haven resident / Al...   \n",
       "2      RT @NBCLatino: .@RepDarrenSoto noted that Hurr...   \n",
       "3      RT @NALCABPolicy: Meeting with @RepDarrenSoto ...   \n",
       "4      RT @Vegalteno: Hurricane season starts on June...   \n",
       "...                                                  ...   \n",
       "72730  Check out my op-ed on need for End Executive O...   \n",
       "72731  Yesterday, Betty &amp; I had a great time lear...   \n",
       "72732  We are forever grateful for the service and sa...   \n",
       "72733  Happy first day of school @CobbSchools! #CobbB...   \n",
       "72734  #Zika fears realized in Florida. House GOP act...   \n",
       "\n",
       "                                           Cleaned Tweet  \n",
       "0      today senate dems vote to  proud to support si...  \n",
       "1      rt  winter haven resident  alta vista teacher ...  \n",
       "2      rt   noted that hurricane maria has left appro...  \n",
       "3      rt  meeting with   thanks for taking the time ...  \n",
       "4      rt  hurricane season starts on june st puerto ...  \n",
       "...                                                  ...  \n",
       "72730  check out my oped on need for end executive ov...  \n",
       "72731  yesterday betty amp i had a great time learnin...  \n",
       "72732  we are forever grateful for the service and sa...  \n",
       "72733                        happy first day of school    \n",
       "72734   fears realized in florida house gop acted to ...  \n",
       "\n",
       "[72735 rows x 5 columns]"
      ]
     },
     "execution_count": 115,
     "metadata": {},
     "output_type": "execute_result"
    }
   ],
   "source": [
    "train_data"
   ]
  },
  {
   "cell_type": "code",
   "execution_count": 116,
   "metadata": {},
   "outputs": [
    {
     "data": {
      "text/plain": [
       "0        today senate dems vote to  proud to support si...\n",
       "1        rt  winter haven resident  alta vista teacher ...\n",
       "2        rt   noted that hurricane maria has left appro...\n",
       "3        rt  meeting with   thanks for taking the time ...\n",
       "4        rt  hurricane season starts on june st puerto ...\n",
       "                               ...                        \n",
       "72730    check out my oped on need for end executive ov...\n",
       "72731    yesterday betty amp i had a great time learnin...\n",
       "72732    we are forever grateful for the service and sa...\n",
       "72733                          happy first day of school  \n",
       "72734     fears realized in florida house gop acted to ...\n",
       "Name: Cleaned Tweet, Length: 72735, dtype: object"
      ]
     },
     "execution_count": 116,
     "metadata": {},
     "output_type": "execute_result"
    }
   ],
   "source": [
    "train_data[\"Cleaned Tweet\"]"
   ]
  },
  {
   "cell_type": "markdown",
   "metadata": {},
   "source": [
    "Stop word removal, tokenization,Lemmatization"
   ]
  },
  {
   "cell_type": "code",
   "execution_count": 244,
   "metadata": {},
   "outputs": [
    {
     "name": "stderr",
     "output_type": "stream",
     "text": [
      "[nltk_data] Downloading package stopwords to C:\\Users\\Anusha\n",
      "[nltk_data]     Gadgil\\AppData\\Roaming\\nltk_data...\n",
      "[nltk_data]   Package stopwords is already up-to-date!\n",
      "[nltk_data] Downloading package wordnet to C:\\Users\\Anusha\n",
      "[nltk_data]     Gadgil\\AppData\\Roaming\\nltk_data...\n",
      "[nltk_data]   Package wordnet is already up-to-date!\n",
      "[nltk_data] Downloading package punkt to C:\\Users\\Anusha\n",
      "[nltk_data]     Gadgil\\AppData\\Roaming\\nltk_data...\n",
      "[nltk_data]   Package punkt is already up-to-date!\n"
     ]
    },
    {
     "name": "stdout",
     "output_type": "stream",
     "text": [
      "      Unnamed: 0       Party         Handle  \\\n",
      "0              0    Democrat  RepDarrenSoto   \n",
      "1              1    Democrat  RepDarrenSoto   \n",
      "2              2    Democrat  RepDarrenSoto   \n",
      "3              3    Democrat  RepDarrenSoto   \n",
      "4              4    Democrat  RepDarrenSoto   \n",
      "...          ...         ...            ...   \n",
      "72730      86455  Republican    RepTomPrice   \n",
      "72731      86456  Republican    RepTomPrice   \n",
      "72732      86457  Republican    RepTomPrice   \n",
      "72733      86458  Republican    RepTomPrice   \n",
      "72734      86459  Republican    RepTomPrice   \n",
      "\n",
      "                                                   Tweet  \\\n",
      "0      Today, Senate Dems vote to #SaveTheInternet. P...   \n",
      "1      RT @WinterHavenSun: Winter Haven resident / Al...   \n",
      "2      RT @NBCLatino: .@RepDarrenSoto noted that Hurr...   \n",
      "3      RT @NALCABPolicy: Meeting with @RepDarrenSoto ...   \n",
      "4      RT @Vegalteno: Hurricane season starts on June...   \n",
      "...                                                  ...   \n",
      "72730  Check out my op-ed on need for End Executive O...   \n",
      "72731  Yesterday, Betty &amp; I had a great time lear...   \n",
      "72732  We are forever grateful for the service and sa...   \n",
      "72733  Happy first day of school @CobbSchools! #CobbB...   \n",
      "72734  #Zika fears realized in Florida. House GOP act...   \n",
      "\n",
      "                                           Cleaned Tweet  \\\n",
      "0      today senate dems vote to  proud to support si...   \n",
      "1      rt  winter haven resident  alta vista teacher ...   \n",
      "2      rt   noted that hurricane maria has left appro...   \n",
      "3      rt  meeting with   thanks for taking the time ...   \n",
      "4      rt  hurricane season starts on june st puerto ...   \n",
      "...                                                  ...   \n",
      "72730  check out my oped on need for end executive ov...   \n",
      "72731  yesterday betty amp i had a great time learnin...   \n",
      "72732  we are forever grateful for the service and sa...   \n",
      "72733                        happy first day of school     \n",
      "72734   fears realized in florida house gop acted to ...   \n",
      "\n",
      "                                         Processed Tweet  \n",
      "0      [today, senat, dem, vote, proud, support, simi...  \n",
      "1      [rt, winter, resid, alta, vista, teacher, one,...  \n",
      "2      [rt, note, hurrican, maria, left, approxim, bi...  \n",
      "3      [rt, meet, thank, take, time, meet, ed, marucc...  \n",
      "4      [rt, hurrican, season, start, june, st, puerto...  \n",
      "...                                                  ...  \n",
      "72730  [check, ope, need, end, execut, overreach, act...  \n",
      "72731  [yesterday, betti, amp, great, time, learn, fo...  \n",
      "72732    [forev, grate, servic, sacrific, major, barney]  \n",
      "72733                        [happi, first, day, school]  \n",
      "72734  [fear, realiz, florida, hous, gop, act, preven...  \n",
      "\n",
      "[72735 rows x 6 columns]\n"
     ]
    }
   ],
   "source": [
    "#import nltk\n",
    "from nltk.corpus import stopwords\n",
    "from nltk.tokenize import word_tokenize\n",
    "from nltk.stem import PorterStemmer, WordNetLemmatizer\n",
    "\n",
    "# Download the stopwords corpus if you haven't already\n",
    "nltk.download('stopwords')\n",
    "nltk.download('wordnet')\n",
    "nltk.download('punkt')\n",
    "\n",
    "# Initialize NLTK objects for text processing\n",
    "stop_words = set(stopwords.words('english'))\n",
    "stemmer = PorterStemmer()\n",
    "lemmatizer = WordNetLemmatizer()\n",
    "\n",
    "# Function to preprocess text\n",
    "def preprocess_text(text):\n",
    "    # Remove punctuation and special characters\n",
    "    text = re.sub(r'[^\\w\\s]', '', text)\n",
    "    # Tokenize the text\n",
    "    tokens = word_tokenize(text)\n",
    "    # Remove stopwords and perform stemming/lemmatization\n",
    "    tokens = [stemmer.stem(lemmatizer.lemmatize(token.lower())) for token in tokens if token.lower() not in stop_words]\n",
    "    return tokens\n",
    "\n",
    "# Apply the preprocessing function to the 'Cleaned Tweet' column\n",
    "train_data['Processed Tweet'] = train_data['Cleaned Tweet'].apply(preprocess_text)\n",
    "\n",
    "# Display the DataFrame with the processed text\n",
    "print(train_data)"
   ]
  },
  {
   "cell_type": "code",
   "execution_count": 245,
   "metadata": {},
   "outputs": [
    {
     "name": "stdout",
     "output_type": "stream",
     "text": [
      "                   Word  Frequency\n",
      "9                    rt      16033\n",
      "169                 amp       7745\n",
      "0                 today       7336\n",
      "30                thank       5593\n",
      "563                work       3841\n",
      "...                 ...        ...\n",
      "16092    mikecapuanocom          1\n",
      "16094            prolaw          1\n",
      "16095  nationticketmast          1\n",
      "16098          fiendish          1\n",
      "27155            barney          1\n",
      "\n",
      "[27156 rows x 2 columns]\n"
     ]
    }
   ],
   "source": [
    "from collections import Counter\n",
    "import string\n",
    "\n",
    "# Define the preprocessing function\n",
    "def preprocess_text(text):\n",
    "    text = text.lower()\n",
    "    text = text.translate(str.maketrans('', '', string.punctuation))\n",
    "    words = word_tokenize(text)\n",
    "    return words\n",
    "\n",
    "# Apply preprocessing and tokenize\n",
    "data['tokenized_text'] = data['Processed Tweet'].apply(preprocess_text)\n",
    "\n",
    "# Count word frequency\n",
    "word_frequencies = Counter()\n",
    "\n",
    "# Update word frequencies for each row\n",
    "for _, row in data.iterrows():\n",
    "    word_frequencies.update(row['tokenized_text'])\n",
    "\n",
    "# Convert word frequencies to a DataFrame\n",
    "word_freq_df = pd.DataFrame(word_frequencies.items(), columns=['Word', 'Frequency'])\n",
    "\n",
    "# Sort by frequency \n",
    "word_freq_df = word_freq_df.sort_values(by='Frequency', ascending=False)\n",
    "\n",
    "# Display the DataFrame with sorted word frequencies\n",
    "print(word_freq_df)\n",
    "\n",
    "\n",
    "\n"
   ]
  },
  {
   "cell_type": "markdown",
   "metadata": {},
   "source": [
    "Assigning variables to input features and Target Variables"
   ]
  },
  {
   "cell_type": "code",
   "execution_count": 246,
   "metadata": {},
   "outputs": [],
   "source": [
    "from sklearn.preprocessing import LabelEncoder\n",
    "X = train_data['Processed Tweet']\n",
    "Y = LabelEncoder().fit_transform(train_data['Party'])"
   ]
  },
  {
   "cell_type": "markdown",
   "metadata": {},
   "source": [
    "Performing train test split"
   ]
  },
  {
   "cell_type": "code",
   "execution_count": 247,
   "metadata": {},
   "outputs": [],
   "source": [
    "from sklearn.model_selection import train_test_split\n",
    "X_train, X_test, Y_train, Y_test = train_test_split(X, Y, test_size=0.2, random_state=42)"
   ]
  },
  {
   "cell_type": "code",
   "execution_count": 248,
   "metadata": {},
   "outputs": [
    {
     "name": "stdout",
     "output_type": "stream",
     "text": [
      "58188\n",
      "58188\n"
     ]
    }
   ],
   "source": [
    "print (len(X_train))\n",
    "print (len(Y_train))"
   ]
  },
  {
   "cell_type": "code",
   "execution_count": 254,
   "metadata": {},
   "outputs": [
    {
     "data": {
      "text/plain": [
       "24018    [congratul, shemar, coomb, philadelphia, parti...\n",
       "5865     [yesterday, rocket, attack, israel, iran, revo...\n",
       "37609    [today, committe, kick, hear, seri, vital, non...\n",
       "1059     [trump, administr, launch, anoth, attack, jeop...\n",
       "48124              [help, inform, thank, tireless, effort]\n",
       "                               ...                        \n",
       "37194    [glad, receiv, award, tonight, recognit, stron...\n",
       "6265     [hope, futur, amp, govern, listen, peopl, nati...\n",
       "54886    [abl, secur, passag, amend, jessi, law, last, ...\n",
       "860      [era, isnt, equal, pay, equal, work, much, equ...\n",
       "15795                          [rt, proud, sport, f, rate]\n",
       "Name: Processed Tweet, Length: 58188, dtype: object"
      ]
     },
     "execution_count": 254,
     "metadata": {},
     "output_type": "execute_result"
    }
   ],
   "source": [
    "X_train"
   ]
  },
  {
   "cell_type": "markdown",
   "metadata": {},
   "source": [
    "Preparing the Data"
   ]
  },
  {
   "cell_type": "code",
   "execution_count": 249,
   "metadata": {},
   "outputs": [],
   "source": [
    "\n",
    "max_words = 5000  # Maximum number of words to keep\n",
    "tokenizer = Tokenizer(num_words=max_words)\n",
    "tokenizer.fit_on_texts(X_train)"
   ]
  },
  {
   "cell_type": "code",
   "execution_count": 250,
   "metadata": {},
   "outputs": [],
   "source": [
    "#Tokenizing and Padding\n",
    "X_train_seq = tokenizer.texts_to_sequences(X_train)\n",
    "X_test_seq = tokenizer.texts_to_sequences(X_test)\n",
    "\n",
    "# Pad sequences to a fixed length\n",
    "max_len = 50  # Maximum length of a sequence\n",
    "X_train_pad = pad_sequences(X_train_seq, maxlen=max_len)\n",
    "X_test_pad = pad_sequences(X_test_seq, maxlen=max_len)"
   ]
  },
  {
   "cell_type": "code",
   "execution_count": 251,
   "metadata": {},
   "outputs": [
    {
     "name": "stdout",
     "output_type": "stream",
     "text": [
      "(58188, 50)\n",
      "(14547, 50)\n",
      "(58188,)\n"
     ]
    }
   ],
   "source": [
    "print(X_train_pad.shape)\n",
    "print(X_test_pad.shape)\n",
    "print(X_train.shape)"
   ]
  },
  {
   "cell_type": "markdown",
   "metadata": {},
   "source": [
    "Experimenting with RMS prop"
   ]
  },
  {
   "cell_type": "code",
   "execution_count": 252,
   "metadata": {},
   "outputs": [
    {
     "name": "stdout",
     "output_type": "stream",
     "text": [
      "Model: \"sequential_7\"\n",
      "_________________________________________________________________\n",
      " Layer (type)                Output Shape              Param #   \n",
      "=================================================================\n",
      " embedding_7 (Embedding)     (None, 50, 50)            250000    \n",
      "                                                                 \n",
      " flatten_6 (Flatten)         (None, 2500)              0         \n",
      "                                                                 \n",
      " dense_27 (Dense)            (None, 128)               320128    \n",
      "                                                                 \n",
      " dense_28 (Dense)            (None, 1024)              132096    \n",
      "                                                                 \n",
      " dense_29 (Dense)            (None, 1)                 1025      \n",
      "                                                                 \n",
      "=================================================================\n",
      "Total params: 703249 (2.68 MB)\n",
      "Trainable params: 703249 (2.68 MB)\n",
      "Non-trainable params: 0 (0.00 Byte)\n",
      "_________________________________________________________________\n"
     ]
    }
   ],
   "source": [
    "import keras\n",
    "from tensorflow.keras.layers import Embedding, Dense, Flatten, Dropout\n",
    "\n",
    "# Assuming max_words and max_len are defined\n",
    "embedding_dim = 50\n",
    "\n",
    "model = keras.Sequential([\n",
    "    Embedding(input_dim=max_words, output_dim=embedding_dim, input_length=max_len),\n",
    "    Flatten(),\n",
    "    Dense(128, activation='relu'),\n",
    "    Dense(1024, activation='relu'),\n",
    "    Dense(1, activation='sigmoid')  # Output layer with a single unit for binary classification\n",
    "])\n",
    "\n",
    "model.summary()\n",
    "\n",
    "\n"
   ]
  },
  {
   "cell_type": "markdown",
   "metadata": {},
   "source": [
    "Experimenting with Adam and SGD"
   ]
  },
  {
   "cell_type": "code",
   "execution_count": 193,
   "metadata": {},
   "outputs": [],
   "source": [
    "from tensorflow.keras.optimizers import Adam\n",
    "# Compile the model\n",
    "model.compile(optimizer=SGD(learning_rate=0.001), loss='binary_crossentropy', metrics=['accuracy'])"
   ]
  },
  {
   "cell_type": "code",
   "execution_count": 194,
   "metadata": {},
   "outputs": [
    {
     "name": "stdout",
     "output_type": "stream",
     "text": [
      "Shape of Y_train: (58188,)\n",
      "Shape of Y_test: (14547,)\n"
     ]
    }
   ],
   "source": [
    "print(\"Shape of Y_train:\", Y_train.shape)\n",
    "print(\"Shape of Y_test:\", Y_test.shape)"
   ]
  },
  {
   "cell_type": "code",
   "execution_count": 195,
   "metadata": {},
   "outputs": [
    {
     "name": "stdout",
     "output_type": "stream",
     "text": [
      "Epoch 1/5\n",
      "910/910 [==============================] - 12s 12ms/step - loss: 0.6929 - accuracy: 0.5146 - val_loss: 0.6928 - val_accuracy: 0.5155\n",
      "Epoch 2/5\n",
      "910/910 [==============================] - 11s 12ms/step - loss: 0.6928 - accuracy: 0.5147 - val_loss: 0.6927 - val_accuracy: 0.5155\n",
      "Epoch 3/5\n",
      "910/910 [==============================] - 11s 12ms/step - loss: 0.6927 - accuracy: 0.5147 - val_loss: 0.6927 - val_accuracy: 0.5155\n",
      "Epoch 4/5\n",
      "910/910 [==============================] - 10s 12ms/step - loss: 0.6927 - accuracy: 0.5147 - val_loss: 0.6926 - val_accuracy: 0.5155\n",
      "Epoch 5/5\n",
      "910/910 [==============================] - 11s 12ms/step - loss: 0.6927 - accuracy: 0.5147 - val_loss: 0.6926 - val_accuracy: 0.5155\n"
     ]
    },
    {
     "data": {
      "text/plain": [
       "<keras.src.callbacks.History at 0x2131ffba490>"
      ]
     },
     "execution_count": 195,
     "metadata": {},
     "output_type": "execute_result"
    }
   ],
   "source": [
    "batch_size = 64\n",
    "epochs = 5\n",
    "model.fit(X_train_pad, Y_train, batch_size=batch_size, epochs=epochs, validation_data=(X_test_pad, Y_test))"
   ]
  },
  {
   "cell_type": "markdown",
   "metadata": {},
   "source": [
    "experimenting with RMSprop"
   ]
  },
  {
   "cell_type": "code",
   "execution_count": 196,
   "metadata": {},
   "outputs": [],
   "source": [
    "from tensorflow.keras.optimizers import RMSprop\n",
    "# Compile the model\n",
    "model.compile(optimizer=RMSprop(learning_rate=0.001), loss='binary_crossentropy', metrics=['accuracy'])"
   ]
  },
  {
   "cell_type": "code",
   "execution_count": 197,
   "metadata": {},
   "outputs": [
    {
     "name": "stdout",
     "output_type": "stream",
     "text": [
      "Epoch 1/5\n",
      "1819/1819 [==============================] - 27s 14ms/step - loss: 0.6096 - accuracy: 0.6486 - val_loss: 0.5602 - val_accuracy: 0.6993\n",
      "Epoch 2/5\n",
      "1819/1819 [==============================] - 25s 14ms/step - loss: 0.5250 - accuracy: 0.7328 - val_loss: 0.5562 - val_accuracy: 0.7052\n",
      "Epoch 3/5\n",
      "1819/1819 [==============================] - 25s 14ms/step - loss: 0.4659 - accuracy: 0.7740 - val_loss: 0.5657 - val_accuracy: 0.7004\n",
      "Epoch 4/5\n",
      "1819/1819 [==============================] - 25s 14ms/step - loss: 0.4064 - accuracy: 0.8104 - val_loss: 0.6646 - val_accuracy: 0.6935\n",
      "Epoch 5/5\n",
      "1819/1819 [==============================] - 24s 13ms/step - loss: 0.3523 - accuracy: 0.8417 - val_loss: 0.6848 - val_accuracy: 0.6843\n"
     ]
    },
    {
     "data": {
      "text/plain": [
       "<keras.src.callbacks.History at 0x2132039f1c0>"
      ]
     },
     "execution_count": 197,
     "metadata": {},
     "output_type": "execute_result"
    }
   ],
   "source": [
    "batch_size = 32\n",
    "epochs = 5\n",
    "model.fit(X_train_pad, Y_train, batch_size=batch_size, epochs=epochs, validation_data=(X_test_pad, Y_test))"
   ]
  },
  {
   "cell_type": "markdown",
   "metadata": {},
   "source": [
    "Experimenting with ADAM"
   ]
  },
  {
   "cell_type": "code",
   "execution_count": 198,
   "metadata": {},
   "outputs": [
    {
     "name": "stdout",
     "output_type": "stream",
     "text": [
      "Epoch 1/5\n",
      "1819/1819 [==============================] - 28s 14ms/step - loss: 0.3265 - accuracy: 0.8563 - val_loss: 0.7027 - val_accuracy: 0.6802\n",
      "Epoch 2/5\n",
      "1819/1819 [==============================] - 25s 14ms/step - loss: 0.2263 - accuracy: 0.9026 - val_loss: 0.8900 - val_accuracy: 0.6782\n",
      "Epoch 3/5\n",
      "1819/1819 [==============================] - 26s 14ms/step - loss: 0.1571 - accuracy: 0.9337 - val_loss: 1.1858 - val_accuracy: 0.6718\n",
      "Epoch 4/5\n",
      "1819/1819 [==============================] - 26s 14ms/step - loss: 0.1136 - accuracy: 0.9513 - val_loss: 1.4382 - val_accuracy: 0.6676\n",
      "Epoch 5/5\n",
      "1819/1819 [==============================] - 25s 14ms/step - loss: 0.0892 - accuracy: 0.9631 - val_loss: 1.7693 - val_accuracy: 0.6575\n"
     ]
    },
    {
     "data": {
      "text/plain": [
       "<keras.src.callbacks.History at 0x213203aefa0>"
      ]
     },
     "execution_count": 198,
     "metadata": {},
     "output_type": "execute_result"
    }
   ],
   "source": [
    "from tensorflow.keras.optimizers import Adam\n",
    "# Compile the model\n",
    "model.compile(optimizer=Adam(learning_rate=0.001), loss='binary_crossentropy', metrics=['accuracy'])\n",
    "# Train the model\n",
    "batch_size = 32\n",
    "epochs = 5\n",
    "model.fit(X_train_pad, Y_train, batch_size=batch_size, epochs=epochs, validation_data=(X_test_pad, Y_test))"
   ]
  },
  {
   "cell_type": "markdown",
   "metadata": {},
   "source": [
    "## Experimenting with L2 and dropout regularization"
   ]
  },
  {
   "cell_type": "code",
   "execution_count": 202,
   "metadata": {},
   "outputs": [
    {
     "name": "stdout",
     "output_type": "stream",
     "text": [
      "Model: \"sequential_6\"\n",
      "_________________________________________________________________\n",
      " Layer (type)                Output Shape              Param #   \n",
      "=================================================================\n",
      " embedding_6 (Embedding)     (None, 50, 50)            250000    \n",
      "                                                                 \n",
      " flatten_5 (Flatten)         (None, 2500)              0         \n",
      "                                                                 \n",
      " dense_22 (Dense)            (None, 128)               320128    \n",
      "                                                                 \n",
      " dropout_2 (Dropout)         (None, 128)               0         \n",
      "                                                                 \n",
      " dense_23 (Dense)            (None, 1024)              132096    \n",
      "                                                                 \n",
      " dense_24 (Dense)            (None, 512)               524800    \n",
      "                                                                 \n",
      " dropout_3 (Dropout)         (None, 512)               0         \n",
      "                                                                 \n",
      " dense_25 (Dense)            (None, 256)               131328    \n",
      "                                                                 \n",
      " dense_26 (Dense)            (None, 1)                 257       \n",
      "                                                                 \n",
      "=================================================================\n",
      "Total params: 1358609 (5.18 MB)\n",
      "Trainable params: 1358609 (5.18 MB)\n",
      "Non-trainable params: 0 (0.00 Byte)\n",
      "_________________________________________________________________\n"
     ]
    }
   ],
   "source": [
    "from tensorflow.keras.layers import Dense, Dropout\n",
    "embedding_dim = 50\n",
    "from tensorflow.keras.regularizers import l2\n",
    "model = keras.Sequential([\n",
    "    Embedding(input_dim=max_words, output_dim=embedding_dim, input_length=max_len),\n",
    "    keras.layers.Flatten(input_shape=(50, 50)),\n",
    "    keras.layers.Dense(128, activation='relu'),\n",
    "    Dropout(0.5),\n",
    "    keras.layers.Dense(1024, activation='relu'),\n",
    "    keras.layers.Dense(512, activation='elu',kernel_regularizer=l2(0.00001)),\n",
    "    Dropout(0.5),\n",
    "    keras.layers.Dense(256, activation='tanh', kernel_regularizer=l2(0.00001)),\n",
    "    keras.layers.Dense(1, activation='sigmoid')\n",
    "])\n",
    "\n",
    "model.summary()"
   ]
  },
  {
   "cell_type": "code",
   "execution_count": 203,
   "metadata": {},
   "outputs": [],
   "source": [
    "from tensorflow.keras.optimizers import Adam\n",
    "# Compile the model\n",
    "model.compile(optimizer=Adam(learning_rate=0.001), loss='binary_crossentropy', metrics=['accuracy'])"
   ]
  },
  {
   "cell_type": "code",
   "execution_count": 205,
   "metadata": {},
   "outputs": [
    {
     "name": "stdout",
     "output_type": "stream",
     "text": [
      "Epoch 1/10\n",
      "3637/3637 [==============================] - 93s 25ms/step - loss: 0.6817 - accuracy: 0.5480 - val_loss: 0.5937 - val_accuracy: 0.6748\n",
      "Epoch 2/10\n",
      "3637/3637 [==============================] - 89s 24ms/step - loss: 0.5617 - accuracy: 0.7127 - val_loss: 0.5566 - val_accuracy: 0.7120\n",
      "Epoch 3/10\n",
      "3637/3637 [==============================] - 89s 24ms/step - loss: 0.4841 - accuracy: 0.7673 - val_loss: 0.5649 - val_accuracy: 0.7068\n",
      "Epoch 4/10\n",
      "3637/3637 [==============================] - 95s 26ms/step - loss: 0.4158 - accuracy: 0.8100 - val_loss: 0.6127 - val_accuracy: 0.6861\n",
      "Epoch 5/10\n",
      "3637/3637 [==============================] - 100s 28ms/step - loss: 0.3622 - accuracy: 0.8406 - val_loss: 0.6298 - val_accuracy: 0.6834\n",
      "Epoch 6/10\n",
      "3637/3637 [==============================] - 100s 28ms/step - loss: 0.3204 - accuracy: 0.8612 - val_loss: 0.7582 - val_accuracy: 0.6872\n",
      "Epoch 7/10\n",
      "3637/3637 [==============================] - 99s 27ms/step - loss: 0.2907 - accuracy: 0.8771 - val_loss: 0.7468 - val_accuracy: 0.6811\n",
      "Epoch 8/10\n",
      "3637/3637 [==============================] - 100s 28ms/step - loss: 0.2647 - accuracy: 0.8922 - val_loss: 0.8035 - val_accuracy: 0.6830\n",
      "Epoch 9/10\n",
      "3637/3637 [==============================] - 496s 136ms/step - loss: 0.2282 - accuracy: 0.9093 - val_loss: 0.8550 - val_accuracy: 0.6854\n"
     ]
    },
    {
     "data": {
      "text/plain": [
       "<keras.src.callbacks.History at 0x2171becadf0>"
      ]
     },
     "execution_count": 205,
     "metadata": {},
     "output_type": "execute_result"
    }
   ],
   "source": [
    "batch_size = 16\n",
    "epochs = 10\n",
    "model.fit(X_train_pad, Y_train, batch_size=batch_size, epochs=epochs, validation_data=(X_test_pad, Y_test))"
   ]
  },
  {
   "cell_type": "markdown",
   "metadata": {},
   "source": [
    "Preparing the testing data for validation"
   ]
  },
  {
   "cell_type": "code",
   "execution_count": 218,
   "metadata": {},
   "outputs": [
    {
     "data": {
      "text/html": [
       "<div>\n",
       "<style scoped>\n",
       "    .dataframe tbody tr th:only-of-type {\n",
       "        vertical-align: middle;\n",
       "    }\n",
       "\n",
       "    .dataframe tbody tr th {\n",
       "        vertical-align: top;\n",
       "    }\n",
       "\n",
       "    .dataframe thead th {\n",
       "        text-align: right;\n",
       "    }\n",
       "</style>\n",
       "<table border=\"1\" class=\"dataframe\">\n",
       "  <thead>\n",
       "    <tr style=\"text-align: right;\">\n",
       "      <th></th>\n",
       "      <th>Unnamed: 0</th>\n",
       "      <th>Party</th>\n",
       "      <th>Handle</th>\n",
       "      <th>Tweet</th>\n",
       "    </tr>\n",
       "  </thead>\n",
       "  <tbody>\n",
       "    <tr>\n",
       "      <th>0</th>\n",
       "      <td>1009</td>\n",
       "      <td>Democrat</td>\n",
       "      <td>RepBarragan</td>\n",
       "      <td>Join me next Friday, May 18 in #Lynwood for ou...</td>\n",
       "    </tr>\n",
       "    <tr>\n",
       "      <th>1</th>\n",
       "      <td>1025</td>\n",
       "      <td>Democrat</td>\n",
       "      <td>RepBarragan</td>\n",
       "      <td>The administration announced its plan today to...</td>\n",
       "    </tr>\n",
       "    <tr>\n",
       "      <th>2</th>\n",
       "      <td>1029</td>\n",
       "      <td>Democrat</td>\n",
       "      <td>RepBarragan</td>\n",
       "      <td>Today’s @SouthGateCAgov’s JAA Opening Day Cere...</td>\n",
       "    </tr>\n",
       "    <tr>\n",
       "      <th>3</th>\n",
       "      <td>1031</td>\n",
       "      <td>Democrat</td>\n",
       "      <td>RepBarragan</td>\n",
       "      <td>Great visit @Compton_YB! TY for creating a pos...</td>\n",
       "    </tr>\n",
       "    <tr>\n",
       "      <th>4</th>\n",
       "      <td>1035</td>\n",
       "      <td>Democrat</td>\n",
       "      <td>RepBarragan</td>\n",
       "      <td>Tune into my Water Quality Town Hall live feed...</td>\n",
       "    </tr>\n",
       "    <tr>\n",
       "      <th>...</th>\n",
       "      <td>...</td>\n",
       "      <td>...</td>\n",
       "      <td>...</td>\n",
       "      <td>...</td>\n",
       "    </tr>\n",
       "    <tr>\n",
       "      <th>13721</th>\n",
       "      <td>84986</td>\n",
       "      <td>Republican</td>\n",
       "      <td>michaelcburgess</td>\n",
       "      <td>Forty-five years ago today, Rep. Sam Johnson r...</td>\n",
       "    </tr>\n",
       "    <tr>\n",
       "      <th>13722</th>\n",
       "      <td>84987</td>\n",
       "      <td>Republican</td>\n",
       "      <td>michaelcburgess</td>\n",
       "      <td>Yesterday we all were deeply saddened by the e...</td>\n",
       "    </tr>\n",
       "    <tr>\n",
       "      <th>13723</th>\n",
       "      <td>84990</td>\n",
       "      <td>Republican</td>\n",
       "      <td>michaelcburgess</td>\n",
       "      <td>The White House has released a Statement of Ad...</td>\n",
       "    </tr>\n",
       "    <tr>\n",
       "      <th>13724</th>\n",
       "      <td>84992</td>\n",
       "      <td>Republican</td>\n",
       "      <td>michaelcburgess</td>\n",
       "      <td>Today I had a productive meeting with @SecAzar...</td>\n",
       "    </tr>\n",
       "    <tr>\n",
       "      <th>13725</th>\n",
       "      <td>84998</td>\n",
       "      <td>Republican</td>\n",
       "      <td>michaelcburgess</td>\n",
       "      <td>This morning - on the first anniversary of his...</td>\n",
       "    </tr>\n",
       "  </tbody>\n",
       "</table>\n",
       "<p>13726 rows × 4 columns</p>\n",
       "</div>"
      ],
      "text/plain": [
       "       Unnamed: 0       Party           Handle  \\\n",
       "0            1009    Democrat      RepBarragan   \n",
       "1            1025    Democrat      RepBarragan   \n",
       "2            1029    Democrat      RepBarragan   \n",
       "3            1031    Democrat      RepBarragan   \n",
       "4            1035    Democrat      RepBarragan   \n",
       "...           ...         ...              ...   \n",
       "13721       84986  Republican  michaelcburgess   \n",
       "13722       84987  Republican  michaelcburgess   \n",
       "13723       84990  Republican  michaelcburgess   \n",
       "13724       84992  Republican  michaelcburgess   \n",
       "13725       84998  Republican  michaelcburgess   \n",
       "\n",
       "                                                   Tweet  \n",
       "0      Join me next Friday, May 18 in #Lynwood for ou...  \n",
       "1      The administration announced its plan today to...  \n",
       "2      Today’s @SouthGateCAgov’s JAA Opening Day Cere...  \n",
       "3      Great visit @Compton_YB! TY for creating a pos...  \n",
       "4      Tune into my Water Quality Town Hall live feed...  \n",
       "...                                                  ...  \n",
       "13721  Forty-five years ago today, Rep. Sam Johnson r...  \n",
       "13722  Yesterday we all were deeply saddened by the e...  \n",
       "13723  The White House has released a Statement of Ad...  \n",
       "13724  Today I had a productive meeting with @SecAzar...  \n",
       "13725  This morning - on the first anniversary of his...  \n",
       "\n",
       "[13726 rows x 4 columns]"
      ]
     },
     "execution_count": 218,
     "metadata": {},
     "output_type": "execute_result"
    }
   ],
   "source": [
    "test_data=pd.read_csv('C:/Users/Anusha Gadgil/Desktop/Deep learning/test.csv')\n",
    "test_data"
   ]
  },
  {
   "cell_type": "code",
   "execution_count": 220,
   "metadata": {},
   "outputs": [],
   "source": [
    "test_data['Tweet'] = test_data['Tweet'].astype(str)\n",
    "# Function to clean up tweets\n",
    "def clean_tweet(tweet):\n",
    "    # Remove URLs\n",
    "    tweet = re.sub(r'http\\S+', '', tweet)\n",
    "    # Remove mentions (e.g., @username)\n",
    "    tweet = re.sub(r'@\\w+', '', tweet)\n",
    "    # Remove hashtags\n",
    "    tweet = re.sub(r'#\\w+', '', tweet)\n",
    "    # Remove special characters and punctuation\n",
    "    tweet = re.sub(r'[^a-zA-Z\\s]', '', tweet)\n",
    "    # Convert to lowercase\n",
    "    tweet = tweet.lower()\n",
    "    return tweet\n",
    "\n",
    "# Apply the cleaning function to the 'Tweet' column\n",
    "test_data['Cleaned Tweet'] = test_data['Tweet'].apply(clean_tweet)"
   ]
  },
  {
   "cell_type": "code",
   "execution_count": 221,
   "metadata": {},
   "outputs": [
    {
     "name": "stdout",
     "output_type": "stream",
     "text": [
      "       Unnamed: 0       Party           Handle  \\\n",
      "0            1009    Democrat      RepBarragan   \n",
      "1            1025    Democrat      RepBarragan   \n",
      "2            1029    Democrat      RepBarragan   \n",
      "3            1031    Democrat      RepBarragan   \n",
      "4            1035    Democrat      RepBarragan   \n",
      "...           ...         ...              ...   \n",
      "13721       84986  Republican  michaelcburgess   \n",
      "13722       84987  Republican  michaelcburgess   \n",
      "13723       84990  Republican  michaelcburgess   \n",
      "13724       84992  Republican  michaelcburgess   \n",
      "13725       84998  Republican  michaelcburgess   \n",
      "\n",
      "                                                   Tweet  \\\n",
      "0      Join me next Friday, May 18 in #Lynwood for ou...   \n",
      "1      The administration announced its plan today to...   \n",
      "2      Today’s @SouthGateCAgov’s JAA Opening Day Cere...   \n",
      "3      Great visit @Compton_YB! TY for creating a pos...   \n",
      "4      Tune into my Water Quality Town Hall live feed...   \n",
      "...                                                  ...   \n",
      "13721  Forty-five years ago today, Rep. Sam Johnson r...   \n",
      "13722  Yesterday we all were deeply saddened by the e...   \n",
      "13723  The White House has released a Statement of Ad...   \n",
      "13724  Today I had a productive meeting with @SecAzar...   \n",
      "13725  This morning - on the first anniversary of his...   \n",
      "\n",
      "                                           Cleaned Tweet  \\\n",
      "0      join me next friday may  in  for our   recepti...   \n",
      "1      the administration announced its plan today to...   \n",
      "2      todays s jaa opening day ceremony was more tha...   \n",
      "3      great visit  ty for creating a positive enviro...   \n",
      "4      tune into my water quality town hall live feed...   \n",
      "...                                                  ...   \n",
      "13721  fortyfive years ago today rep sam johnson retu...   \n",
      "13722  yesterday we all were deeply saddened by the e...   \n",
      "13723  the white house has released a statement of ad...   \n",
      "13724  today i had a productive meeting with  to disc...   \n",
      "13725  this morning  on the first anniversary of his ...   \n",
      "\n",
      "                                         Processed Tweet  \n",
      "0      [join, me, next, friday, may, in, for, our, re...  \n",
      "1      [the, administration, announced, its, plan, to...  \n",
      "2      [todays, s, jaa, opening, day, ceremony, was, ...  \n",
      "3      [great, visit, ty, for, creating, a, positive,...  \n",
      "4      [tune, into, my, water, quality, town, hall, l...  \n",
      "...                                                  ...  \n",
      "13721  [fortyfive, years, ago, today, rep, sam, johns...  \n",
      "13722  [yesterday, we, all, were, deeply, saddened, b...  \n",
      "13723  [the, white, house, has, released, a, statemen...  \n",
      "13724  [today, i, had, a, productive, meeting, with, ...  \n",
      "13725  [this, morning, on, the, first, anniversary, o...  \n",
      "\n",
      "[13726 rows x 6 columns]\n"
     ]
    }
   ],
   "source": [
    "def preprocess_traintext(text):\n",
    "    # Remove punctuation and special characters\n",
    "    text = re.sub(r'[^\\w\\s]', '', text)\n",
    "    # Tokenize the text\n",
    "    tokens = word_tokenize(text)\n",
    "    # Remove stopwords and perform stemming/lemmatization\n",
    "    tokens = [stemmer.stem(lemmatizer.lemmatize(token.lower())) for token in tokens if token.lower() not in stop_words]\n",
    "    return tokens\n",
    "\n",
    "# Apply the preprocessing function to the 'Cleaned Tweet' column\n",
    "test_data['Processed Tweet'] = test_data['Cleaned Tweet'].apply(preprocess_text)\n",
    "\n",
    "# Display the DataFrame with the processed text\n",
    "print(test_data)"
   ]
  },
  {
   "cell_type": "code",
   "execution_count": 224,
   "metadata": {},
   "outputs": [
    {
     "data": {
      "text/plain": [
       "array([0, 0, 0, ..., 1, 1, 1])"
      ]
     },
     "execution_count": 224,
     "metadata": {},
     "output_type": "execute_result"
    }
   ],
   "source": [
    "X_testcheck=test_data['Processed Tweet']\n",
    "X_testcheck\n",
    "Y_testcheck= LabelEncoder().fit_transform(test_data['Party'])\n",
    "Y_testcheck"
   ]
  },
  {
   "cell_type": "code",
   "execution_count": 225,
   "metadata": {},
   "outputs": [],
   "source": [
    "X_test_Sequence = tokenizer.texts_to_sequences(X_testcheck)\n",
    "\n",
    "# Pad sequences to a fixed length\n",
    "max_len = 50  # Maximum length of a sequence\n",
    "\n",
    "X_test_padded = pad_sequences(X_test_Sequence, maxlen=max_len)"
   ]
  },
  {
   "cell_type": "code",
   "execution_count": 226,
   "metadata": {},
   "outputs": [
    {
     "data": {
      "text/plain": [
       "(13726, 50)"
      ]
     },
     "execution_count": 226,
     "metadata": {},
     "output_type": "execute_result"
    }
   ],
   "source": [
    "X_test_padded.shape"
   ]
  },
  {
   "cell_type": "code",
   "execution_count": 228,
   "metadata": {},
   "outputs": [
    {
     "data": {
      "text/plain": [
       "(13726,)"
      ]
     },
     "execution_count": 228,
     "metadata": {},
     "output_type": "execute_result"
    }
   ],
   "source": [
    "Y_testcheck.shape"
   ]
  },
  {
   "cell_type": "code",
   "execution_count": 229,
   "metadata": {},
   "outputs": [
    {
     "name": "stdout",
     "output_type": "stream",
     "text": [
      "429/429 [==============================] - 3s 5ms/step - loss: 1.1154 - accuracy: 0.6032\n",
      "Test accuracy: 0.6032347083091736\n"
     ]
    }
   ],
   "source": [
    "test_loss, test_accuracy = model.evaluate(X_test_padded, Y_testcheck)\n",
    "print(\"Test accuracy:\", test_accuracy)"
   ]
  },
  {
   "cell_type": "code",
   "execution_count": 231,
   "metadata": {},
   "outputs": [
    {
     "name": "stdout",
     "output_type": "stream",
     "text": [
      "429/429 [==============================] - 2s 5ms/step\n",
      "Classification Report:\n",
      "               precision    recall  f1-score   support\n",
      "\n",
      "           0       0.64      0.46      0.53      6780\n",
      "           1       0.58      0.75      0.66      6946\n",
      "\n",
      "    accuracy                           0.60     13726\n",
      "   macro avg       0.61      0.60      0.59     13726\n",
      "weighted avg       0.61      0.60      0.59     13726\n",
      "\n",
      "Confusion Matrix:\n",
      " [[3100 3680]\n",
      " [1766 5180]]\n"
     ]
    }
   ],
   "source": [
    "# Calculate and print classification report and confusion matrix\n",
    "#checking F1 score after changes\n",
    "from sklearn.metrics import classification_report, confusion_matrix\n",
    "# Get model predictions\n",
    "predictions = model.predict(X_test_padded)\n",
    "threshold = 0.5  # Threshold for binary classification\n",
    "y_pred = [(1 if prob >= threshold else 0) for prob in predictions]\n",
    "y_pred_np=np.array([y_pred])\n",
    "y_pred_np=y_pred_np.flatten()\n",
    "\n",
    "\n",
    "print(\"Classification Report:\\n\", classification_report(Y_testcheck, y_pred_np))\n",
    "print(\"Confusion Matrix:\\n\", confusion_matrix(Y_testcheck, y_pred_np))"
   ]
  },
  {
   "cell_type": "markdown",
   "metadata": {},
   "source": [
    "F1 score is coming to be 60"
   ]
  },
  {
   "cell_type": "markdown",
   "metadata": {},
   "source": [
    "2nd Model: Tweets with the Handle"
   ]
  },
  {
   "cell_type": "code",
   "execution_count": 255,
   "metadata": {},
   "outputs": [
    {
     "data": {
      "text/plain": [
       "0        [join, me, next, friday, may, in, for, our, re...\n",
       "1        [the, administration, announced, its, plan, to...\n",
       "2        [todays, s, jaa, opening, day, ceremony, was, ...\n",
       "3        [great, visit, ty, for, creating, a, positive,...\n",
       "4        [tune, into, my, water, quality, town, hall, l...\n",
       "                               ...                        \n",
       "13721    [fortyfive, years, ago, today, rep, sam, johns...\n",
       "13722    [yesterday, we, all, were, deeply, saddened, b...\n",
       "13723    [the, white, house, has, released, a, statemen...\n",
       "13724    [today, i, had, a, productive, meeting, with, ...\n",
       "13725    [this, morning, on, the, first, anniversary, o...\n",
       "Name: Processed Tweet, Length: 13726, dtype: object"
      ]
     },
     "execution_count": 255,
     "metadata": {},
     "output_type": "execute_result"
    }
   ],
   "source": [
    "X_test_tweets=test_data['Processed Tweet']\n",
    "X_test_tweets"
   ]
  },
  {
   "cell_type": "code",
   "execution_count": 241,
   "metadata": {},
   "outputs": [
    {
     "data": {
      "text/html": [
       "<div>\n",
       "<style scoped>\n",
       "    .dataframe tbody tr th:only-of-type {\n",
       "        vertical-align: middle;\n",
       "    }\n",
       "\n",
       "    .dataframe tbody tr th {\n",
       "        vertical-align: top;\n",
       "    }\n",
       "\n",
       "    .dataframe thead th {\n",
       "        text-align: right;\n",
       "    }\n",
       "</style>\n",
       "<table border=\"1\" class=\"dataframe\">\n",
       "  <thead>\n",
       "    <tr style=\"text-align: right;\">\n",
       "      <th></th>\n",
       "      <th>Handle_AGBecerra</th>\n",
       "      <th>Handle_AlanGrayson</th>\n",
       "      <th>Handle_AnthonyBrownMD4</th>\n",
       "      <th>Handle_AustinScottGA08</th>\n",
       "      <th>Handle_BennieGThompson</th>\n",
       "      <th>Handle_BettyMcCollum04</th>\n",
       "      <th>Handle_BillPascrell</th>\n",
       "      <th>Handle_BobbyScott</th>\n",
       "      <th>Handle_BradSherman</th>\n",
       "      <th>Handle_Call_Me_Dutch</th>\n",
       "      <th>...</th>\n",
       "      <th>Handle_repjimcooper</th>\n",
       "      <th>Handle_repjoecrowley</th>\n",
       "      <th>Handle_repjohnlewis</th>\n",
       "      <th>Handle_replouiegohmert</th>\n",
       "      <th>Handle_repmarkpocan</th>\n",
       "      <th>Handle_reppittenger</th>\n",
       "      <th>Handle_repsandylevin</th>\n",
       "      <th>Handle_rosadelauro</th>\n",
       "      <th>Handle_sethmoulton</th>\n",
       "      <th>Handle_virginiafoxx</th>\n",
       "    </tr>\n",
       "  </thead>\n",
       "  <tbody>\n",
       "    <tr>\n",
       "      <th>0</th>\n",
       "      <td>False</td>\n",
       "      <td>False</td>\n",
       "      <td>False</td>\n",
       "      <td>False</td>\n",
       "      <td>False</td>\n",
       "      <td>False</td>\n",
       "      <td>False</td>\n",
       "      <td>False</td>\n",
       "      <td>False</td>\n",
       "      <td>False</td>\n",
       "      <td>...</td>\n",
       "      <td>False</td>\n",
       "      <td>False</td>\n",
       "      <td>False</td>\n",
       "      <td>False</td>\n",
       "      <td>False</td>\n",
       "      <td>False</td>\n",
       "      <td>False</td>\n",
       "      <td>False</td>\n",
       "      <td>False</td>\n",
       "      <td>False</td>\n",
       "    </tr>\n",
       "    <tr>\n",
       "      <th>1</th>\n",
       "      <td>False</td>\n",
       "      <td>False</td>\n",
       "      <td>False</td>\n",
       "      <td>False</td>\n",
       "      <td>False</td>\n",
       "      <td>False</td>\n",
       "      <td>False</td>\n",
       "      <td>False</td>\n",
       "      <td>False</td>\n",
       "      <td>False</td>\n",
       "      <td>...</td>\n",
       "      <td>False</td>\n",
       "      <td>False</td>\n",
       "      <td>False</td>\n",
       "      <td>False</td>\n",
       "      <td>False</td>\n",
       "      <td>False</td>\n",
       "      <td>False</td>\n",
       "      <td>False</td>\n",
       "      <td>False</td>\n",
       "      <td>False</td>\n",
       "    </tr>\n",
       "    <tr>\n",
       "      <th>2</th>\n",
       "      <td>False</td>\n",
       "      <td>False</td>\n",
       "      <td>False</td>\n",
       "      <td>False</td>\n",
       "      <td>False</td>\n",
       "      <td>False</td>\n",
       "      <td>False</td>\n",
       "      <td>False</td>\n",
       "      <td>False</td>\n",
       "      <td>False</td>\n",
       "      <td>...</td>\n",
       "      <td>False</td>\n",
       "      <td>False</td>\n",
       "      <td>False</td>\n",
       "      <td>False</td>\n",
       "      <td>False</td>\n",
       "      <td>False</td>\n",
       "      <td>False</td>\n",
       "      <td>False</td>\n",
       "      <td>False</td>\n",
       "      <td>False</td>\n",
       "    </tr>\n",
       "    <tr>\n",
       "      <th>3</th>\n",
       "      <td>False</td>\n",
       "      <td>False</td>\n",
       "      <td>False</td>\n",
       "      <td>False</td>\n",
       "      <td>False</td>\n",
       "      <td>False</td>\n",
       "      <td>False</td>\n",
       "      <td>False</td>\n",
       "      <td>False</td>\n",
       "      <td>False</td>\n",
       "      <td>...</td>\n",
       "      <td>False</td>\n",
       "      <td>False</td>\n",
       "      <td>False</td>\n",
       "      <td>False</td>\n",
       "      <td>False</td>\n",
       "      <td>False</td>\n",
       "      <td>False</td>\n",
       "      <td>False</td>\n",
       "      <td>False</td>\n",
       "      <td>False</td>\n",
       "    </tr>\n",
       "    <tr>\n",
       "      <th>4</th>\n",
       "      <td>False</td>\n",
       "      <td>False</td>\n",
       "      <td>False</td>\n",
       "      <td>False</td>\n",
       "      <td>False</td>\n",
       "      <td>False</td>\n",
       "      <td>False</td>\n",
       "      <td>False</td>\n",
       "      <td>False</td>\n",
       "      <td>False</td>\n",
       "      <td>...</td>\n",
       "      <td>False</td>\n",
       "      <td>False</td>\n",
       "      <td>False</td>\n",
       "      <td>False</td>\n",
       "      <td>False</td>\n",
       "      <td>False</td>\n",
       "      <td>False</td>\n",
       "      <td>False</td>\n",
       "      <td>False</td>\n",
       "      <td>False</td>\n",
       "    </tr>\n",
       "    <tr>\n",
       "      <th>...</th>\n",
       "      <td>...</td>\n",
       "      <td>...</td>\n",
       "      <td>...</td>\n",
       "      <td>...</td>\n",
       "      <td>...</td>\n",
       "      <td>...</td>\n",
       "      <td>...</td>\n",
       "      <td>...</td>\n",
       "      <td>...</td>\n",
       "      <td>...</td>\n",
       "      <td>...</td>\n",
       "      <td>...</td>\n",
       "      <td>...</td>\n",
       "      <td>...</td>\n",
       "      <td>...</td>\n",
       "      <td>...</td>\n",
       "      <td>...</td>\n",
       "      <td>...</td>\n",
       "      <td>...</td>\n",
       "      <td>...</td>\n",
       "      <td>...</td>\n",
       "    </tr>\n",
       "    <tr>\n",
       "      <th>72730</th>\n",
       "      <td>False</td>\n",
       "      <td>False</td>\n",
       "      <td>False</td>\n",
       "      <td>False</td>\n",
       "      <td>False</td>\n",
       "      <td>False</td>\n",
       "      <td>False</td>\n",
       "      <td>False</td>\n",
       "      <td>False</td>\n",
       "      <td>False</td>\n",
       "      <td>...</td>\n",
       "      <td>False</td>\n",
       "      <td>False</td>\n",
       "      <td>False</td>\n",
       "      <td>False</td>\n",
       "      <td>False</td>\n",
       "      <td>False</td>\n",
       "      <td>False</td>\n",
       "      <td>False</td>\n",
       "      <td>False</td>\n",
       "      <td>False</td>\n",
       "    </tr>\n",
       "    <tr>\n",
       "      <th>72731</th>\n",
       "      <td>False</td>\n",
       "      <td>False</td>\n",
       "      <td>False</td>\n",
       "      <td>False</td>\n",
       "      <td>False</td>\n",
       "      <td>False</td>\n",
       "      <td>False</td>\n",
       "      <td>False</td>\n",
       "      <td>False</td>\n",
       "      <td>False</td>\n",
       "      <td>...</td>\n",
       "      <td>False</td>\n",
       "      <td>False</td>\n",
       "      <td>False</td>\n",
       "      <td>False</td>\n",
       "      <td>False</td>\n",
       "      <td>False</td>\n",
       "      <td>False</td>\n",
       "      <td>False</td>\n",
       "      <td>False</td>\n",
       "      <td>False</td>\n",
       "    </tr>\n",
       "    <tr>\n",
       "      <th>72732</th>\n",
       "      <td>False</td>\n",
       "      <td>False</td>\n",
       "      <td>False</td>\n",
       "      <td>False</td>\n",
       "      <td>False</td>\n",
       "      <td>False</td>\n",
       "      <td>False</td>\n",
       "      <td>False</td>\n",
       "      <td>False</td>\n",
       "      <td>False</td>\n",
       "      <td>...</td>\n",
       "      <td>False</td>\n",
       "      <td>False</td>\n",
       "      <td>False</td>\n",
       "      <td>False</td>\n",
       "      <td>False</td>\n",
       "      <td>False</td>\n",
       "      <td>False</td>\n",
       "      <td>False</td>\n",
       "      <td>False</td>\n",
       "      <td>False</td>\n",
       "    </tr>\n",
       "    <tr>\n",
       "      <th>72733</th>\n",
       "      <td>False</td>\n",
       "      <td>False</td>\n",
       "      <td>False</td>\n",
       "      <td>False</td>\n",
       "      <td>False</td>\n",
       "      <td>False</td>\n",
       "      <td>False</td>\n",
       "      <td>False</td>\n",
       "      <td>False</td>\n",
       "      <td>False</td>\n",
       "      <td>...</td>\n",
       "      <td>False</td>\n",
       "      <td>False</td>\n",
       "      <td>False</td>\n",
       "      <td>False</td>\n",
       "      <td>False</td>\n",
       "      <td>False</td>\n",
       "      <td>False</td>\n",
       "      <td>False</td>\n",
       "      <td>False</td>\n",
       "      <td>False</td>\n",
       "    </tr>\n",
       "    <tr>\n",
       "      <th>72734</th>\n",
       "      <td>False</td>\n",
       "      <td>False</td>\n",
       "      <td>False</td>\n",
       "      <td>False</td>\n",
       "      <td>False</td>\n",
       "      <td>False</td>\n",
       "      <td>False</td>\n",
       "      <td>False</td>\n",
       "      <td>False</td>\n",
       "      <td>False</td>\n",
       "      <td>...</td>\n",
       "      <td>False</td>\n",
       "      <td>False</td>\n",
       "      <td>False</td>\n",
       "      <td>False</td>\n",
       "      <td>False</td>\n",
       "      <td>False</td>\n",
       "      <td>False</td>\n",
       "      <td>False</td>\n",
       "      <td>False</td>\n",
       "      <td>False</td>\n",
       "    </tr>\n",
       "  </tbody>\n",
       "</table>\n",
       "<p>72735 rows × 433 columns</p>\n",
       "</div>"
      ],
      "text/plain": [
       "       Handle_AGBecerra  Handle_AlanGrayson  Handle_AnthonyBrownMD4  \\\n",
       "0                 False               False                   False   \n",
       "1                 False               False                   False   \n",
       "2                 False               False                   False   \n",
       "3                 False               False                   False   \n",
       "4                 False               False                   False   \n",
       "...                 ...                 ...                     ...   \n",
       "72730             False               False                   False   \n",
       "72731             False               False                   False   \n",
       "72732             False               False                   False   \n",
       "72733             False               False                   False   \n",
       "72734             False               False                   False   \n",
       "\n",
       "       Handle_AustinScottGA08  Handle_BennieGThompson  Handle_BettyMcCollum04  \\\n",
       "0                       False                   False                   False   \n",
       "1                       False                   False                   False   \n",
       "2                       False                   False                   False   \n",
       "3                       False                   False                   False   \n",
       "4                       False                   False                   False   \n",
       "...                       ...                     ...                     ...   \n",
       "72730                   False                   False                   False   \n",
       "72731                   False                   False                   False   \n",
       "72732                   False                   False                   False   \n",
       "72733                   False                   False                   False   \n",
       "72734                   False                   False                   False   \n",
       "\n",
       "       Handle_BillPascrell  Handle_BobbyScott  Handle_BradSherman  \\\n",
       "0                    False              False               False   \n",
       "1                    False              False               False   \n",
       "2                    False              False               False   \n",
       "3                    False              False               False   \n",
       "4                    False              False               False   \n",
       "...                    ...                ...                 ...   \n",
       "72730                False              False               False   \n",
       "72731                False              False               False   \n",
       "72732                False              False               False   \n",
       "72733                False              False               False   \n",
       "72734                False              False               False   \n",
       "\n",
       "       Handle_Call_Me_Dutch  ...  Handle_repjimcooper  Handle_repjoecrowley  \\\n",
       "0                     False  ...                False                 False   \n",
       "1                     False  ...                False                 False   \n",
       "2                     False  ...                False                 False   \n",
       "3                     False  ...                False                 False   \n",
       "4                     False  ...                False                 False   \n",
       "...                     ...  ...                  ...                   ...   \n",
       "72730                 False  ...                False                 False   \n",
       "72731                 False  ...                False                 False   \n",
       "72732                 False  ...                False                 False   \n",
       "72733                 False  ...                False                 False   \n",
       "72734                 False  ...                False                 False   \n",
       "\n",
       "       Handle_repjohnlewis  Handle_replouiegohmert  Handle_repmarkpocan  \\\n",
       "0                    False                   False                False   \n",
       "1                    False                   False                False   \n",
       "2                    False                   False                False   \n",
       "3                    False                   False                False   \n",
       "4                    False                   False                False   \n",
       "...                    ...                     ...                  ...   \n",
       "72730                False                   False                False   \n",
       "72731                False                   False                False   \n",
       "72732                False                   False                False   \n",
       "72733                False                   False                False   \n",
       "72734                False                   False                False   \n",
       "\n",
       "       Handle_reppittenger  Handle_repsandylevin  Handle_rosadelauro  \\\n",
       "0                    False                 False               False   \n",
       "1                    False                 False               False   \n",
       "2                    False                 False               False   \n",
       "3                    False                 False               False   \n",
       "4                    False                 False               False   \n",
       "...                    ...                   ...                 ...   \n",
       "72730                False                 False               False   \n",
       "72731                False                 False               False   \n",
       "72732                False                 False               False   \n",
       "72733                False                 False               False   \n",
       "72734                False                 False               False   \n",
       "\n",
       "       Handle_sethmoulton  Handle_virginiafoxx  \n",
       "0                   False                False  \n",
       "1                   False                False  \n",
       "2                   False                False  \n",
       "3                   False                False  \n",
       "4                   False                False  \n",
       "...                   ...                  ...  \n",
       "72730               False                False  \n",
       "72731               False                False  \n",
       "72732               False                False  \n",
       "72733               False                False  \n",
       "72734               False                False  \n",
       "\n",
       "[72735 rows x 433 columns]"
      ]
     },
     "execution_count": 241,
     "metadata": {},
     "output_type": "execute_result"
    }
   ],
   "source": [
    "X_Handle = pd.get_dummies(X_train['Handle'], prefix='Handle')\n",
    "X_Handle"
   ]
  },
  {
   "cell_type": "code",
   "execution_count": 256,
   "metadata": {},
   "outputs": [
    {
     "data": {
      "text/plain": [
       "0        [join, me, next, friday, may, in, for, our, re...\n",
       "1        [the, administration, announced, its, plan, to...\n",
       "2        [todays, s, jaa, opening, day, ceremony, was, ...\n",
       "3        [great, visit, ty, for, creating, a, positive,...\n",
       "4        [tune, into, my, water, quality, town, hall, l...\n",
       "                               ...                        \n",
       "13721    [fortyfive, years, ago, today, rep, sam, johns...\n",
       "13722    [yesterday, we, all, were, deeply, saddened, b...\n",
       "13723    [the, white, house, has, released, a, statemen...\n",
       "13724    [today, i, had, a, productive, meeting, with, ...\n",
       "13725    [this, morning, on, the, first, anniversary, o...\n",
       "Name: Processed Tweet, Length: 13726, dtype: object"
      ]
     },
     "execution_count": 256,
     "metadata": {},
     "output_type": "execute_result"
    }
   ],
   "source": [
    "X_test_tweets=test_data['Processed Tweet']\n",
    "X_test_tweets"
   ]
  },
  {
   "cell_type": "code",
   "execution_count": 257,
   "metadata": {},
   "outputs": [
    {
     "data": {
      "text/plain": [
       "array([[0, 0, 0, ..., 0, 0, 0],\n",
       "       [0, 0, 0, ..., 0, 0, 0],\n",
       "       [0, 0, 0, ..., 0, 0, 0],\n",
       "       ...,\n",
       "       [0, 0, 0, ..., 0, 0, 0],\n",
       "       [0, 0, 0, ..., 0, 0, 0],\n",
       "       [0, 0, 0, ..., 0, 0, 0]])"
      ]
     },
     "execution_count": 257,
     "metadata": {},
     "output_type": "execute_result"
    }
   ],
   "source": [
    "max_words = 5000  # Maximum number of words to keep\n",
    "tokenizer = Tokenizer(num_words=max_words)\n",
    "X_test_new_tweet_seq = tokenizer.texts_to_sequences(X_test_tweets)\n",
    "\n",
    "# Pad sequences to a fixed length\n",
    "max_len = 50  # Maximum length of a sequence\n",
    "\n",
    "X_test_new_tweet_seq = pad_sequences(X_test_new_tweet_seq, maxlen=max_len)\n",
    "X_test_new_tweet_seq"
   ]
  },
  {
   "cell_type": "code",
   "execution_count": 258,
   "metadata": {},
   "outputs": [
    {
     "data": {
      "text/plain": [
       "(13726, 50)"
      ]
     },
     "execution_count": 258,
     "metadata": {},
     "output_type": "execute_result"
    }
   ],
   "source": [
    "X_test_new_tweet_seq.shape"
   ]
  },
  {
   "cell_type": "code",
   "execution_count": 259,
   "metadata": {},
   "outputs": [
    {
     "data": {
      "text/plain": [
       "(72735, 433)"
      ]
     },
     "execution_count": 259,
     "metadata": {},
     "output_type": "execute_result"
    }
   ],
   "source": [
    "X_handle_np=np.array([])\n",
    "X_handle_np=X_Handle.values\n",
    "X_handle_np.shape"
   ]
  },
  {
   "cell_type": "markdown",
   "metadata": {},
   "source": [
    "Model with only handle"
   ]
  },
  {
   "cell_type": "code",
   "execution_count": 260,
   "metadata": {},
   "outputs": [],
   "source": [
    "X_train_handle, X_test_handle, y_train, y_test = train_test_split(X_handle_np, y, test_size=0.2, random_state=42)"
   ]
  },
  {
   "cell_type": "code",
   "execution_count": 261,
   "metadata": {},
   "outputs": [
    {
     "name": "stdout",
     "output_type": "stream",
     "text": [
      "Model: \"sequential_8\"\n",
      "_________________________________________________________________\n",
      " Layer (type)                Output Shape              Param #   \n",
      "=================================================================\n",
      " dense_30 (Dense)            (None, 514)               223076    \n",
      "                                                                 \n",
      " dense_31 (Dense)            (None, 514)               264710    \n",
      "                                                                 \n",
      " dense_32 (Dense)            (None, 256)               131840    \n",
      "                                                                 \n",
      " dense_33 (Dense)            (None, 1)                 257       \n",
      "                                                                 \n",
      "=================================================================\n",
      "Total params: 619883 (2.36 MB)\n",
      "Trainable params: 619883 (2.36 MB)\n",
      "Non-trainable params: 0 (0.00 Byte)\n",
      "_________________________________________________________________\n"
     ]
    }
   ],
   "source": [
    "from tensorflow.keras.layers import Dense, Dropout\n",
    "embedding_dim = 50\n",
    "from tensorflow.keras.regularizers import l2\n",
    "model = keras.Sequential([\n",
    "    keras.layers.Dense(514, activation='relu', input_shape=(433,)),\n",
    "    keras.layers.Dense(514, activation='relu'),\n",
    "    keras.layers.Dense(256, activation='relu'),\n",
    "    keras.layers.Dense(1, activation='sigmoid')\n",
    "])\n",
    "model.summary()"
   ]
  },
  {
   "cell_type": "code",
   "execution_count": 262,
   "metadata": {},
   "outputs": [],
   "source": [
    "from tensorflow.keras.optimizers import Adam\n",
    "# Compile the model\n",
    "model.compile(optimizer=Adam(learning_rate=0.001), loss='binary_crossentropy', metrics=['accuracy'])"
   ]
  },
  {
   "cell_type": "code",
   "execution_count": 263,
   "metadata": {},
   "outputs": [
    {
     "name": "stdout",
     "output_type": "stream",
     "text": [
      "Epoch 1/5\n",
      "3637/3637 [==============================] - 49s 13ms/step - loss: 0.0107 - accuracy: 0.9948 - val_loss: 5.0720e-07 - val_accuracy: 1.0000\n",
      "Epoch 2/5\n",
      "3637/3637 [==============================] - 45s 12ms/step - loss: 0.0016 - accuracy: 0.9997 - val_loss: 1.0513e-09 - val_accuracy: 1.0000\n",
      "Epoch 3/5\n",
      "3637/3637 [==============================] - 44s 12ms/step - loss: -5.6948e-04 - accuracy: 1.0000 - val_loss: 1.9911e-10 - val_accuracy: 1.0000\n",
      "Epoch 4/5\n",
      "3637/3637 [==============================] - 44s 12ms/step - loss: -2.4552e-04 - accuracy: 1.0000 - val_loss: 1.7134e-17 - val_accuracy: 1.0000\n",
      "Epoch 5/5\n",
      "3637/3637 [==============================] - 50s 14ms/step - loss: 4.6411e-05 - accuracy: 0.9999 - val_loss: 2.5260e-12 - val_accuracy: 1.0000\n"
     ]
    },
    {
     "data": {
      "text/plain": [
       "<keras.src.callbacks.History at 0x2171a8558b0>"
      ]
     },
     "execution_count": 263,
     "metadata": {},
     "output_type": "execute_result"
    }
   ],
   "source": [
    "batch_size = 16\n",
    "epochs = 5\n",
    "model.fit(X_train_handle, y_train, batch_size=batch_size, epochs=epochs, validation_data=(X_test_handle, y_test))"
   ]
  },
  {
   "cell_type": "markdown",
   "metadata": {},
   "source": [
    "Text Model"
   ]
  },
  {
   "cell_type": "code",
   "execution_count": 264,
   "metadata": {},
   "outputs": [
    {
     "name": "stdout",
     "output_type": "stream",
     "text": [
      "Model: \"sequential_9\"\n",
      "_________________________________________________________________\n",
      " Layer (type)                Output Shape              Param #   \n",
      "=================================================================\n",
      " embedding_8 (Embedding)     (None, 50, 50)            250000    \n",
      "                                                                 \n",
      " flatten_7 (Flatten)         (None, 2500)              0         \n",
      "                                                                 \n",
      " dense_34 (Dense)            (None, 128)               320128    \n",
      "                                                                 \n",
      " dropout_4 (Dropout)         (None, 128)               0         \n",
      "                                                                 \n",
      " dense_35 (Dense)            (None, 1024)              132096    \n",
      "                                                                 \n",
      " dense_36 (Dense)            (None, 512)               524800    \n",
      "                                                                 \n",
      " dropout_5 (Dropout)         (None, 512)               0         \n",
      "                                                                 \n",
      " dense_37 (Dense)            (None, 256)               131328    \n",
      "                                                                 \n",
      " dense_38 (Dense)            (None, 1)                 257       \n",
      "                                                                 \n",
      "=================================================================\n",
      "Total params: 1358609 (5.18 MB)\n",
      "Trainable params: 1358609 (5.18 MB)\n",
      "Non-trainable params: 0 (0.00 Byte)\n",
      "_________________________________________________________________\n"
     ]
    }
   ],
   "source": [
    "from tensorflow.keras.layers import Dense, Dropout\n",
    "embedding_dim = 50\n",
    "from tensorflow.keras.regularizers import l2\n",
    "model2 = keras.Sequential([\n",
    "    Embedding(input_dim=max_words, output_dim=embedding_dim, input_length=max_len),\n",
    "    keras.layers.Flatten(input_shape=(50, 50)),\n",
    "    keras.layers.Dense(128, activation='relu'),\n",
    "    Dropout(0.5),\n",
    "    keras.layers.Dense(1024, activation='relu'),\n",
    "    keras.layers.Dense(512, activation='elu',kernel_regularizer=l2(0.00001)),\n",
    "    Dropout(0.5),\n",
    "    keras.layers.Dense(256, activation='tanh', kernel_regularizer=l2(0.00001)),\n",
    "    keras.layers.Dense(1, activation='sigmoid')\n",
    "])\n",
    "\n",
    "model2.summary()"
   ]
  },
  {
   "cell_type": "code",
   "execution_count": 265,
   "metadata": {},
   "outputs": [
    {
     "name": "stdout",
     "output_type": "stream",
     "text": [
      "Epoch 1/5\n",
      "1819/1819 [==============================] - 59s 30ms/step - loss: 0.6706 - accuracy: 0.5622 - val_loss: 0.5728 - val_accuracy: 0.6977\n",
      "Epoch 2/5\n",
      "1819/1819 [==============================] - 56s 31ms/step - loss: 0.5386 - accuracy: 0.7247 - val_loss: 0.5558 - val_accuracy: 0.7110\n",
      "Epoch 3/5\n",
      "1819/1819 [==============================] - 58s 32ms/step - loss: 0.4549 - accuracy: 0.7814 - val_loss: 0.5810 - val_accuracy: 0.7041\n",
      "Epoch 4/5\n",
      "1819/1819 [==============================] - 53s 29ms/step - loss: 0.3746 - accuracy: 0.8257 - val_loss: 0.6698 - val_accuracy: 0.6979\n",
      "Epoch 5/5\n",
      "1819/1819 [==============================] - 51s 28ms/step - loss: 0.3132 - accuracy: 0.8576 - val_loss: 0.7580 - val_accuracy: 0.6876\n"
     ]
    },
    {
     "data": {
      "text/plain": [
       "<keras.src.callbacks.History at 0x21305d84f70>"
      ]
     },
     "execution_count": 265,
     "metadata": {},
     "output_type": "execute_result"
    }
   ],
   "source": [
    "from tensorflow.keras.optimizers import Adam\n",
    "# Compile the model\n",
    "model2.compile(optimizer=Adam(learning_rate=0.001), loss='binary_crossentropy', metrics=['accuracy'])\n",
    "# Train the model\n",
    "batch_size = 32\n",
    "epochs = 5\n",
    "model2.fit(X_train_pad, y_train, batch_size=batch_size, epochs=epochs, validation_data=(X_test_pad, y_test))"
   ]
  },
  {
   "cell_type": "code",
   "execution_count": 267,
   "metadata": {},
   "outputs": [
    {
     "data": {
      "text/plain": [
       "(14547, 50)"
      ]
     },
     "execution_count": 267,
     "metadata": {},
     "output_type": "execute_result"
    }
   ],
   "source": [
    "X_test_pad.shape"
   ]
  },
  {
   "cell_type": "code",
   "execution_count": 268,
   "metadata": {},
   "outputs": [
    {
     "data": {
      "text/plain": [
       "(14547, 433)"
      ]
     },
     "execution_count": 268,
     "metadata": {},
     "output_type": "execute_result"
    }
   ],
   "source": [
    "X_test_handle.shape"
   ]
  },
  {
   "cell_type": "code",
   "execution_count": 269,
   "metadata": {},
   "outputs": [
    {
     "name": "stdout",
     "output_type": "stream",
     "text": [
      "455/455 [==============================] - 3s 7ms/step\n",
      "455/455 [==============================] - 3s 7ms/step\n"
     ]
    }
   ],
   "source": [
    "predictions_model_1 = model.predict(X_test_handle)\n",
    "threshold = 0.5  # Threshold for binary classification\n",
    "y_pred_model1 = [(1 if prob >= threshold else 0) for prob in predictions_model_1]\n",
    "\n",
    "predictions_model_2 = model2.predict(X_test_pad)\n",
    "threshold = 0.5  # Threshold for binary classification\n",
    "y_pred_model2 = [(1 if prob >= threshold else 0) for prob in predictions_model_2]\n",
    "\n",
    "\n",
    "y_pred_model1_np=np.array([y_pred_model1])\n",
    "y_pred_model2_np=np.array([y_pred_model2])\n",
    "\n",
    "\n",
    "y_pred_np_new=np.logical_or(y_pred_model1_np, y_pred_model2_np).astype(int)\n",
    "y_pred_np_new=y_pred_np_new.flatten()"
   ]
  },
  {
   "cell_type": "code",
   "execution_count": 270,
   "metadata": {},
   "outputs": [
    {
     "data": {
      "text/plain": [
       "array([1, 0, 0, ..., 0, 1, 1])"
      ]
     },
     "execution_count": 270,
     "metadata": {},
     "output_type": "execute_result"
    }
   ],
   "source": [
    "y_pred_np_new"
   ]
  },
  {
   "cell_type": "code",
   "execution_count": 271,
   "metadata": {},
   "outputs": [
    {
     "name": "stdout",
     "output_type": "stream",
     "text": [
      " Report:\n",
      "               precision    recall  f1-score   support\n",
      "\n",
      "           0       1.00      0.66      0.80      7048\n",
      "           1       0.76      1.00      0.86      7499\n",
      "\n",
      "    accuracy                           0.84     14547\n",
      "   macro avg       0.88      0.83      0.83     14547\n",
      "weighted avg       0.88      0.84      0.83     14547\n",
      "\n"
     ]
    }
   ],
   "source": [
    "print(\" Report:\\n\", classification_report(y_test, y_pred_np_new))"
   ]
  },
  {
   "cell_type": "markdown",
   "metadata": {},
   "source": [
    "Experiment Design:\r\n",
    "Built 2 models to classify tweets for 2 political parties\r\n",
    "\r\n",
    "Performed Data Cleaning for both models:\r\n",
    "\r\n",
    "As a part of data cleaning I did the following:\r\n",
    "Stopwords removal\r\n",
    "Lemmatizations\r\n",
    "junk word removal\r\n",
    "Tokenisation \r\n",
    "\r\n",
    "\r\n",
    "\r\n",
    "\r\n",
    "Additionally Experimented with All the techniques listed in the deliverablare given belowere as follows:"
   ]
  },
  {
   "cell_type": "code",
   "execution_count": 275,
   "metadata": {},
   "outputs": [
    {
     "data": {
      "text/html": [
       "<div>\n",
       "<style scoped>\n",
       "    .dataframe tbody tr th:only-of-type {\n",
       "        vertical-align: middle;\n",
       "    }\n",
       "\n",
       "    .dataframe tbody tr th {\n",
       "        vertical-align: top;\n",
       "    }\n",
       "\n",
       "    .dataframe thead th {\n",
       "        text-align: right;\n",
       "    }\n",
       "</style>\n",
       "<table border=\"1\" class=\"dataframe\">\n",
       "  <thead>\n",
       "    <tr style=\"text-align: right;\">\n",
       "      <th></th>\n",
       "      <th>Regularization/Optimisation Technique</th>\n",
       "      <th>Accuracy</th>\n",
       "    </tr>\n",
       "  </thead>\n",
       "  <tbody>\n",
       "    <tr>\n",
       "      <th>0</th>\n",
       "      <td>SGD with base parameters</td>\n",
       "      <td>51.5</td>\n",
       "    </tr>\n",
       "    <tr>\n",
       "      <th>1</th>\n",
       "      <td>RMSprop</td>\n",
       "      <td>84.0</td>\n",
       "    </tr>\n",
       "    <tr>\n",
       "      <th>2</th>\n",
       "      <td>Adam</td>\n",
       "      <td>65.7</td>\n",
       "    </tr>\n",
       "    <tr>\n",
       "      <th>3</th>\n",
       "      <td>L2 regularisation and Dropout</td>\n",
       "      <td>99.0</td>\n",
       "    </tr>\n",
       "  </tbody>\n",
       "</table>\n",
       "</div>"
      ],
      "text/plain": [
       "  Regularization/Optimisation Technique  Accuracy\n",
       "0              SGD with base parameters      51.5\n",
       "1                               RMSprop      84.0\n",
       "2                                  Adam      65.7\n",
       "3         L2 regularisation and Dropout      99.0"
      ]
     },
     "execution_count": 275,
     "metadata": {},
     "output_type": "execute_result"
    }
   ],
   "source": [
    "import pandas as pd\n",
    "report = {'Regularization/Optimisation Technique': ['SGD with base parameters', 'RMSprop', 'Adam', 'L2 regularisation and Dropout'], 'Accuracy': [51.5,84,65.7,99]}\n",
    "reportdf = pd.DataFrame(data=report)\n",
    "reportdf"
   ]
  },
  {
   "cell_type": "markdown",
   "metadata": {},
   "source": [
    "Built 2 models Party prediction:\n",
    "1. With Handle Accuracy: 84%\n",
    "2. Without Handle Accuracy:65%"
   ]
  },
  {
   "cell_type": "code",
   "execution_count": null,
   "metadata": {},
   "outputs": [],
   "source": []
  }
 ],
 "metadata": {
  "kernelspec": {
   "display_name": "Python 3 (ipykernel)",
   "language": "python",
   "name": "python3"
  },
  "language_info": {
   "codemirror_mode": {
    "name": "ipython",
    "version": 3
   },
   "file_extension": ".py",
   "mimetype": "text/x-python",
   "name": "python",
   "nbconvert_exporter": "python",
   "pygments_lexer": "ipython3",
   "version": "3.8.2rc2"
  }
 },
 "nbformat": 4,
 "nbformat_minor": 4
}
